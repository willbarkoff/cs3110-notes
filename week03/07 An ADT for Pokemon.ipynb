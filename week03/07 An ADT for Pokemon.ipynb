{
 "cells": [
  {
   "cell_type": "markdown",
   "metadata": {},
   "source": [
    "# **07** An ADT for Pokémon\n",
    "\n",
    "Pokémon fight each other, and they have types:\n",
    "- Normal\n",
    "- Water\n",
    "- Fire\n",
    "\n",
    "\n",
    "<small>And some others, but we'll ignore than for now</small>\n",
    "\n",
    "Depending on their type, they do more or less damage. Let's write some OCaml code to model Pokémon."
   ]
  },
  {
   "cell_type": "code",
   "execution_count": 1,
   "metadata": {},
   "outputs": [
    {
     "data": {
      "text/plain": [
       "type ptype = TNormal | TFire | TWater\n"
      ]
     },
     "execution_count": 1,
     "metadata": {},
     "output_type": "execute_result"
    },
    {
     "data": {
      "text/plain": [
       "type peff = ENormal | ENotVery | ESuper\n"
      ]
     },
     "execution_count": 1,
     "metadata": {},
     "output_type": "execute_result"
    }
   ],
   "source": [
    "(* [ptype] is the pokemon's type *)\n",
    "type ptype = TNormal | TFire | TWater\n",
    "\n",
    "(* [peff] represents a pokemon's effectiveness *)\n",
    "type peff = ENormal | ENotVery | ESuper"
   ]
  },
  {
   "cell_type": "markdown",
   "metadata": {},
   "source": [
    "We can't have them both be called Normal, because they would shadow each other, so we're calling one `ENormal` and one `TNormal` for Effectiveness and Type"
   ]
  },
  {
   "cell_type": "code",
   "execution_count": 2,
   "metadata": {},
   "outputs": [
    {
     "data": {
      "text/plain": [
       "val mult_of_eff : peff -> float = <fun>\n"
      ]
     },
     "execution_count": 2,
     "metadata": {},
     "output_type": "execute_result"
    }
   ],
   "source": [
    "let mult_of_eff = function\n",
    "\t| ENormal -> 1.0\n",
    "\t| ENotVery -> 0.5\n",
    "\t| ESuper -> 2.0"
   ]
  },
  {
   "cell_type": "markdown",
   "metadata": {},
   "source": [
    "In OCaml, it's idiomatic to write `mult_of_eff` rather than `mult_to_eff`.\n",
    "\n",
    "Next, let's encode the table of effectiveness of attacks"
   ]
  },
  {
   "cell_type": "code",
   "execution_count": 3,
   "metadata": {},
   "outputs": [
    {
     "data": {
      "text/plain": [
       "val eff : ptype * ptype -> peff = <fun>\n"
      ]
     },
     "execution_count": 3,
     "metadata": {},
     "output_type": "execute_result"
    }
   ],
   "source": [
    "let eff = function\n",
    "\t| (TFire, TFire) -> ENotVery\n",
    "\t| (TWater, TWater) -> ENotVery\n",
    "\t| (TFire, TWater) -> ENotVery\n",
    "\t| (TWater, TFire) -> ESuper\n",
    "\t| _ -> ENormal"
   ]
  },
  {
   "cell_type": "markdown",
   "metadata": {},
   "source": [
    "We could also rewrite this function to use _or patterns_:"
   ]
  },
  {
   "cell_type": "code",
   "execution_count": 4,
   "metadata": {},
   "outputs": [
    {
     "data": {
      "text/plain": [
       "val eff : ptype * ptype -> peff = <fun>\n"
      ]
     },
     "execution_count": 4,
     "metadata": {},
     "output_type": "execute_result"
    }
   ],
   "source": [
    "let eff = function\n",
    "\t| (TFire, TFire) | (TWater, TWater) | (TFire, TWater) -> ENotVery\n",
    "\t| (TWater, TFire) -> ESuper\n",
    "\t| _ -> ENormal"
   ]
  },
  {
   "cell_type": "markdown",
   "metadata": {},
   "source": [
    "Now let's calculate the effectiveness of some pairs"
   ]
  },
  {
   "cell_type": "code",
   "execution_count": 5,
   "metadata": {},
   "outputs": [
    {
     "data": {
      "text/plain": [
       "- : peff = ENotVery\n"
      ]
     },
     "execution_count": 5,
     "metadata": {},
     "output_type": "execute_result"
    }
   ],
   "source": [
    "eff (TFire, TFire);;"
   ]
  },
  {
   "cell_type": "markdown",
   "metadata": {},
   "source": [
    "You might also want to write it as a function that takes each argument separately"
   ]
  },
  {
   "cell_type": "code",
   "execution_count": 6,
   "metadata": {},
   "outputs": [
    {
     "data": {
      "text/plain": [
       "val eff : ptype -> ptype -> peff = <fun>\n"
      ]
     },
     "execution_count": 6,
     "metadata": {},
     "output_type": "execute_result"
    }
   ],
   "source": [
    "let eff t1 t2 = match t1, t2 with\n",
    "\t| TFire, TFire | TWater, TWater | TFire, TWater -> ENotVery\n",
    "\t| TWater, TFire -> ESuper\n",
    "\t| _ -> ENormal"
   ]
  },
  {
   "cell_type": "code",
   "execution_count": 7,
   "metadata": {},
   "outputs": [
    {
     "data": {
      "text/plain": [
       "- : peff = ESuper\n"
      ]
     },
     "execution_count": 7,
     "metadata": {},
     "output_type": "execute_result"
    }
   ],
   "source": [
    "eff TWater TFire"
   ]
  },
  {
   "cell_type": "markdown",
   "metadata": {},
   "source": [
    "This is a topic called _Currying_. You can read more in the textbook.\n",
    "\n",
    "Now let's implement a type for an actual pokémon!"
   ]
  },
  {
   "cell_type": "code",
   "execution_count": 8,
   "metadata": {},
   "outputs": [
    {
     "data": {
      "text/plain": [
       "type mon = { name : string; hp : int; ptype : ptype; }\n"
      ]
     },
     "execution_count": 8,
     "metadata": {},
     "output_type": "execute_result"
    }
   ],
   "source": [
    "type mon = {\n",
    "\tname: string;\n",
    "\thp: int;\n",
    "\tptype: ptype;\n",
    "}"
   ]
  },
  {
   "cell_type": "code",
   "execution_count": 9,
   "metadata": {},
   "outputs": [
    {
     "data": {
      "text/plain": [
       "val charmander : mon = {name = \"Charmander\"; hp = 39; ptype = TFire}\n"
      ]
     },
     "execution_count": 9,
     "metadata": {},
     "output_type": "execute_result"
    }
   ],
   "source": [
    "let charmander = {\n",
    "\tname = \"Charmander\";\n",
    "\thp = 39;\n",
    "\tptype = TFire;\n",
    "}"
   ]
  },
  {
   "cell_type": "markdown",
   "metadata": {},
   "source": [
    "Now we have Charmander modeled as an actual pokémon!"
   ]
  }
 ],
 "metadata": {
  "kernelspec": {
   "display_name": "OCaml cs3110-2021sp",
   "language": "OCaml",
   "name": "ocaml-jupyter"
  },
  "language_info": {
   "codemirror_mode": "text/x-ocaml",
   "file_extension": ".ml",
   "mimetype": "text/x-ocaml",
   "name": "OCaml",
   "nbconverter_exporter": null,
   "pygments_lexer": "OCaml",
   "version": "4.11.1"
  }
 },
 "nbformat": 4,
 "nbformat_minor": 4
}
