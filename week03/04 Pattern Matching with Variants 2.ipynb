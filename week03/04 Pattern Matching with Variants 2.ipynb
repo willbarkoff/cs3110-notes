{
 "cells": [
  {
   "cell_type": "markdown",
   "metadata": {},
   "source": [
    "# **04** Pattern Matching with Variants (Part 2)"
   ]
  },
  {
   "cell_type": "markdown",
   "metadata": {},
   "source": [
    "Let's improve our code from last time."
   ]
  },
  {
   "cell_type": "code",
   "execution_count": 1,
   "metadata": {},
   "outputs": [
    {
     "data": {
      "text/plain": [
       "type point = float * float\n"
      ]
     },
     "execution_count": 1,
     "metadata": {},
     "output_type": "execute_result"
    },
    {
     "data": {
      "text/plain": [
       "type shape =\n",
       "    Circle of { center : point; radius : float; }\n",
       "  | Rectangle of { lower_left : point; upper_right : point; }\n"
      ]
     },
     "execution_count": 1,
     "metadata": {},
     "output_type": "execute_result"
    },
    {
     "data": {
      "text/plain": [
       "val c1 : shape = Circle {center = (0., 0.); radius = 1.}\n"
      ]
     },
     "execution_count": 1,
     "metadata": {},
     "output_type": "execute_result"
    },
    {
     "data": {
      "text/plain": [
       "val r1 : shape = Rectangle {lower_left = (-1., -1.); upper_right = (1., 1.)}\n"
      ]
     },
     "execution_count": 1,
     "metadata": {},
     "output_type": "execute_result"
    },
    {
     "data": {
      "text/plain": [
       "val avg : float -> float -> float = <fun>\n"
      ]
     },
     "execution_count": 1,
     "metadata": {},
     "output_type": "execute_result"
    }
   ],
   "source": [
    "type point = float * float\n",
    "\n",
    "type shape =\n",
    "\t(* lets represent a circle by it's center and it's radius*)\n",
    "\t(* we can use the \"of\" keyword to make it carry more data*)\n",
    "\t| Circle of {center: point; radius: float}\n",
    "\t(* let's represent rectangles with their lower left\n",
    "\tcoordinate and their upper right coordiante.*)\n",
    "\t| Rectangle of {lower_left: point; upper_right: point}\n",
    "\n",
    "let c1 = Circle {center = (0., 0.); radius = 1.}\n",
    "let r1 = Rectangle {lower_left = (-1., -1.); upper_right = (1., 1.)}\n",
    "\n",
    "let avg a b = (a +. b) /. 2.;;"
   ]
  },
  {
   "cell_type": "markdown",
   "metadata": {},
   "source": [
    "We can actually _nest our pattern matching_, so that we don't need to match several times."
   ]
  },
  {
   "cell_type": "code",
   "execution_count": 2,
   "metadata": {},
   "outputs": [
    {
     "data": {
      "text/plain": [
       "val center : shape -> point = <fun>\n"
      ]
     },
     "execution_count": 2,
     "metadata": {},
     "output_type": "execute_result"
    }
   ],
   "source": [
    "let center s =\n",
    "\tmatch s with\n",
    "\t| Circle {center; radius} -> center\n",
    "\t| Rectangle {lower_left=(x_ll, y_ll); upper_right=(x_ur,y_ur)} ->\n",
    "\t\t(avg x_ll x_ur, avg y_ll y_ur)"
   ]
  },
  {
   "cell_type": "markdown",
   "metadata": {},
   "source": [
    "Nesting pattern matching can really help clean up your code. Let's add another shape!"
   ]
  },
  {
   "cell_type": "code",
   "execution_count": 3,
   "metadata": {},
   "outputs": [
    {
     "data": {
      "text/plain": [
       "type shape =\n",
       "    Circle of { center : point; radius : float; }\n",
       "  | Rectangle of { lower_left : point; upper_right : point; }\n",
       "  | Point of point\n"
      ]
     },
     "execution_count": 3,
     "metadata": {},
     "output_type": "execute_result"
    }
   ],
   "source": [
    "type shape =\n",
    "\t| Circle of {center: point; radius: float}\n",
    "\t| Rectangle of {lower_left: point; upper_right: point}\n",
    "\t| Point of point"
   ]
  },
  {
   "cell_type": "code",
   "execution_count": 4,
   "metadata": {},
   "outputs": [
    {
     "data": {
      "text/plain": [
       "val p1 : shape = Point (31., 10.)\n"
      ]
     },
     "execution_count": 4,
     "metadata": {},
     "output_type": "execute_result"
    }
   ],
   "source": [
    "let p1 = Point (31., 10.)"
   ]
  },
  {
   "cell_type": "code",
   "execution_count": 5,
   "metadata": {},
   "outputs": [
    {
     "name": "stderr",
     "output_type": "stream",
     "text": [
      "File \"[5]\", lines 2-5, characters 1-32:\n",
      "2 | .match s with\n",
      "3 | \t| Circle {center; radius} -> center\n",
      "4 | \t| Rectangle {lower_left=(x_ll, y_ll); upper_right=(x_ur,y_ur)} ->\n",
      "5 | \t\t(avg x_ll x_ur, avg y_ll y_ur)\n",
      "Warning 8: this pattern-matching is not exhaustive.\n",
      "Here is an example of a case that is not matched:\n",
      "Point _\n"
     ]
    },
    {
     "data": {
      "text/plain": [
       "val center : shape -> point = <fun>\n"
      ]
     },
     "execution_count": 5,
     "metadata": {},
     "output_type": "execute_result"
    }
   ],
   "source": [
    "let center s =\n",
    "\tmatch s with\n",
    "\t| Circle {center; radius} -> center\n",
    "\t| Rectangle {lower_left=(x_ll, y_ll); upper_right=(x_ur,y_ur)} ->\n",
    "\t\t(avg x_ll x_ur, avg y_ll y_ur)"
   ]
  },
  {
   "cell_type": "markdown",
   "metadata": {},
   "source": [
    "Uh oh! We have a warning! Our center function is missing a pattern match for our newly created `Point` constructor. Let's fix that."
   ]
  },
  {
   "cell_type": "code",
   "execution_count": 6,
   "metadata": {},
   "outputs": [
    {
     "data": {
      "text/plain": [
       "val center : shape -> point = <fun>\n"
      ]
     },
     "execution_count": 6,
     "metadata": {},
     "output_type": "execute_result"
    }
   ],
   "source": [
    "let center = function\n",
    "\t| Circle {center; radius} -> center\n",
    "\t| Rectangle {lower_left=(x_ll, y_ll); upper_right=(x_ur,y_ur)} ->\n",
    "\t\t(avg x_ll x_ur, avg y_ll y_ur)\n",
    "\t| Point p -> p"
   ]
  },
  {
   "cell_type": "code",
   "execution_count": 7,
   "metadata": {},
   "outputs": [
    {
     "data": {
      "text/plain": [
       "- : point = (31., 10.)\n"
      ]
     },
     "execution_count": 7,
     "metadata": {},
     "output_type": "execute_result"
    }
   ],
   "source": [
    "center p1;;"
   ]
  },
  {
   "cell_type": "markdown",
   "metadata": {},
   "source": [
    "Note that we couldn't use `Point _` here, because we need to capture the data held by the point. We could; however, write `Point (x, y) -> (x, y)`, but we're doing extra pattern matching that we don't actually need to do if we do that."
   ]
  }
 ],
 "metadata": {
  "kernelspec": {
   "display_name": "OCaml cs3110-2021sp",
   "language": "OCaml",
   "name": "ocaml-jupyter"
  },
  "language_info": {
   "codemirror_mode": "text/x-ocaml",
   "file_extension": ".ml",
   "mimetype": "text/x-ocaml",
   "name": "OCaml",
   "nbconverter_exporter": null,
   "pygments_lexer": "OCaml",
   "version": "4.11.1"
  }
 },
 "nbformat": 4,
 "nbformat_minor": 4
}
