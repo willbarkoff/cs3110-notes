{
 "cells": [
  {
   "cell_type": "markdown",
   "metadata": {},
   "source": [
    "# **10** Options\n",
    "\n",
    "There's another built in variant in the OCaml library called `options`\n",
    "\n",
    "```ocaml\n",
    "type 'a option = None | Some of 'a\n",
    "```\n",
    "This means that `option` can either hold nothing (`None`), or something of type `'a` (`Some`)."
   ]
  },
  {
   "cell_type": "code",
   "execution_count": 1,
   "metadata": {},
   "outputs": [
    {
     "data": {
      "text/plain": [
       "- : 'a option = None\n"
      ]
     },
     "execution_count": 1,
     "metadata": {},
     "output_type": "execute_result"
    },
    {
     "data": {
      "text/plain": [
       "- : int option = Some 1\n"
      ]
     },
     "execution_count": 1,
     "metadata": {},
     "output_type": "execute_result"
    }
   ],
   "source": [
    "None;;\n",
    "Some 1;;"
   ]
  },
  {
   "cell_type": "markdown",
   "metadata": {},
   "source": [
    "We can also put some more complex data in there:"
   ]
  },
  {
   "cell_type": "code",
   "execution_count": 2,
   "metadata": {},
   "outputs": [
    {
     "data": {
      "text/plain": [
       "- : int list option = Some [1; 2; 3]\n"
      ]
     },
     "execution_count": 2,
     "metadata": {},
     "output_type": "execute_result"
    }
   ],
   "source": [
    "Some [1; 2; 3];;"
   ]
  },
  {
   "cell_type": "markdown",
   "metadata": {},
   "source": [
    "How do we get the data out of an `option`? Pattern matching!"
   ]
  },
  {
   "cell_type": "code",
   "execution_count": 3,
   "metadata": {},
   "outputs": [
    {
     "data": {
      "text/plain": [
       "val get_val : 'a -> 'a option -> 'a = <fun>\n"
      ]
     },
     "execution_count": 3,
     "metadata": {},
     "output_type": "execute_result"
    }
   ],
   "source": [
    "let get_val default = function\n",
    "\t| None -> default\n",
    "\t| Some x -> x;;"
   ]
  },
  {
   "cell_type": "markdown",
   "metadata": {},
   "source": [
    "`option`s are useful for returning something from a function that might return something, or might not.\n",
    "\n",
    "Let's say we want to get the maximum value in a list. We can define `list_max` to take the biggest item in a list, and return an `int option`, where the value would be `None` if there's nothing in the list:"
   ]
  },
  {
   "cell_type": "code",
   "execution_count": 4,
   "metadata": {},
   "outputs": [
    {
     "ename": "error",
     "evalue": "compile_error",
     "output_type": "error",
     "traceback": [
      "File \"[4]\", lines 1-3, characters 33-34:\n1 | .................................: 'a option = function\n2 | \t| [] -> None\n3 | \t| [] -> Some (max h (list_max t))\nError: This expression has type 'a -> 'b\n       but an expression was expected of type 'c option\n"
     ]
    }
   ],
   "source": [
    "let rec list_max (lst : 'a list) : 'a option = function\n",
    "\t| [] -> None\n",
    "\t| h :: t -> Some (max h (list_max t))"
   ]
  },
  {
   "cell_type": "markdown",
   "metadata": {},
   "source": [
    "What went wrong here? In our call `max h (list_max t)`, we're comparing an `'a` to an `'a option`, which doesn't exactly work. We need to get the value out of the option first."
   ]
  },
  {
   "cell_type": "code",
   "execution_count": 7,
   "metadata": {},
   "outputs": [
    {
     "data": {
      "text/plain": [
       "val list_max : 'a list -> 'a option = <fun>\n"
      ]
     },
     "execution_count": 7,
     "metadata": {},
     "output_type": "execute_result"
    }
   ],
   "source": [
    "let rec list_max = function\n",
    "\t| [] -> None\n",
    "\t| h :: t -> begin\n",
    "\t\tmatch list_max t with\n",
    "\t\t(* here we match the result of list_max *)\n",
    "\t\t(* if we got nothing, we need to return the head, because\n",
    "\t\tthat's the only element in the list*)\n",
    "\t\t| None -> Some h\n",
    "\t\t(* on the other hand, if we did get something, return the max of\n",
    "\t\tthat and the tail *)\n",
    "\t\t| Some m -> Some (max h m)\n",
    "\tend"
   ]
  },
  {
   "cell_type": "code",
   "execution_count": 11,
   "metadata": {},
   "outputs": [
    {
     "data": {
      "text/plain": [
       "- : int option = Some 9\n"
      ]
     },
     "execution_count": 11,
     "metadata": {},
     "output_type": "execute_result"
    },
    {
     "data": {
      "text/plain": [
       "- : 'a option = None\n"
      ]
     },
     "execution_count": 11,
     "metadata": {},
     "output_type": "execute_result"
    }
   ],
   "source": [
    "list_max [3; 1; 4; 1; 5; 9; 2; 6];;\n",
    "list_max [];;"
   ]
  },
  {
   "cell_type": "markdown",
   "metadata": {},
   "source": [
    "Here we see two words we've never seen before, `begin` and `end`. They just mean `(` and `)` respectively, and help OCaml determine scope."
   ]
  },
  {
   "cell_type": "markdown",
   "metadata": {},
   "source": [
    "Options let us avoid the [Billion Dollar Mistake](https://en.wikipedia.org/wiki/Tony_Hoare). He invented Quick Sort, and he calls `null` his \"billion dollar mistake.\" He was designing type system for an OOL, and he included `null`, which he believes has caused over a billions dollars lost in the past 40 years."
   ]
  }
 ],
 "metadata": {
  "kernelspec": {
   "display_name": "OCaml cs3110-2021sp",
   "language": "OCaml",
   "name": "ocaml-jupyter"
  },
  "language_info": {
   "codemirror_mode": "text/x-ocaml",
   "file_extension": ".ml",
   "mimetype": "text/x-ocaml",
   "name": "OCaml",
   "nbconverter_exporter": null,
   "pygments_lexer": "OCaml",
   "version": "4.11.1"
  }
 },
 "nbformat": 4,
 "nbformat_minor": 4
}
