{
 "cells": [
  {
   "cell_type": "markdown",
   "metadata": {},
   "source": [
    "# **12** Handling Exceptions\n",
    "\n",
    "Handling exceptions that have been raised can be done with pattern matching"
   ]
  },
  {
   "cell_type": "code",
   "execution_count": 1,
   "metadata": {},
   "outputs": [
    {
     "data": {
      "text/plain": [
       "val safe_div : int -> int -> int = <fun>\n"
      ]
     },
     "execution_count": 1,
     "metadata": {},
     "output_type": "execute_result"
    }
   ],
   "source": [
    "let safe_div x y =\n",
    "\ttry x / y with \n",
    "\t| Division_by_zero -> 0"
   ]
  },
  {
   "cell_type": "code",
   "execution_count": 2,
   "metadata": {},
   "outputs": [
    {
     "data": {
      "text/plain": [
       "- : int = 2\n"
      ]
     },
     "execution_count": 2,
     "metadata": {},
     "output_type": "execute_result"
    },
    {
     "data": {
      "text/plain": [
       "- : int = 0\n"
      ]
     },
     "execution_count": 2,
     "metadata": {},
     "output_type": "execute_result"
    }
   ],
   "source": [
    "safe_div 4 2;;\n",
    "safe_div 4 0;;"
   ]
  },
  {
   "cell_type": "markdown",
   "metadata": {},
   "source": [
    "A `try` exception is essentially pattern matching, but only on exceptions"
   ]
  },
  {
   "cell_type": "markdown",
   "metadata": {},
   "source": [
    "## Syntax\n",
    "```ocaml\n",
    "try e with \n",
    "    | p1 -> e1\n",
    "    | ...\n",
    "    | pn -> en\n",
    "```\n",
    "You can have $[1, \\infty)$ branches.\n",
    "\n",
    "## Evaluation\n",
    "if `e ==> v` then `(try e...) ==> v`\n",
    "\n",
    "if `e` raises an exception `x`, then match `x` against the patterns. If none match, then re-raise `x`.\n",
    "\n",
    "## Type checking\n",
    "`(try e ...) : t` if `e : t` and `e : t` and `ei : t` and `pi : exn`."
   ]
  }
 ],
 "metadata": {
  "kernelspec": {
   "display_name": "OCaml cs3110-2021sp",
   "language": "OCaml",
   "name": "ocaml-jupyter"
  },
  "language_info": {
   "codemirror_mode": "text/x-ocaml",
   "file_extension": ".ml",
   "mimetype": "text/x-ocaml",
   "name": "OCaml",
   "nbconverter_exporter": null,
   "pygments_lexer": "OCaml",
   "version": "4.11.1"
  }
 },
 "nbformat": 4,
 "nbformat_minor": 4
}
