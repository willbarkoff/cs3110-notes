{
 "cells": [
  {
   "cell_type": "markdown",
   "metadata": {},
   "source": [
    "# **06** Algebraic Data Types\n",
    "\n",
    "Let's play a game! Record or variant?\n",
    "- A **coin**, which can be a penny, nickel, dime, or quarter\n",
    "    - A variant, it let's us have a constructor for each coin\n",
    "- A **student**, who has a name and ID number\n",
    "    - A record, we know that we want two pieces of data for each data point. If we used a variant, we wouldn't be able to have both simultaneously\n",
    "- A **dessert**, which has a sauce, a creamy component, and a crunchy component\n",
    "    - A record, because it needs to have each of these three components, and it needs to have _all three_, not just one\n",
    "    \n",
    "The we need to pay attention to the conjunctions here. When we use \"or,\" we generally want a variant, while when we use \"and,\" we generally want a record or tuple.\n",
    "\n",
    "We can call these _one-of types_ and _each-of types_.\n",
    "\n",
    "Records and Tuples are types of _each-of_ types, while variants are types of _one-of_ types.\n",
    "\n",
    "Each of types are often also known as product types, and variants are often also known as sum types.\n",
    "\n",
    "Variants are also known as _tagged unions_. We can model them like this:\n",
    "\n",
    "```ocaml\n",
    "type string_or_int = \n",
    "    | String of string\n",
    "    | Int of int\n",
    "```\n",
    "$$(\\texttt{strings}) \\ \\bigcup\\  (\\texttt{ints})$$\n",
    "\n",
    "But it's more than this! We can have two of the same types\n",
    "\n",
    "```ocaml\n",
    "type blue_or_red_int = \n",
    "    | Blue of int\n",
    "    | Red of int\n",
    "```\n",
    "$$(\\color{blue}{\\texttt{ints}}) \\ \\bigcup^+ \\ (\\color{pink}{\\texttt{ints}})$$\n",
    "\n",
    "This is known in mathematics as a _tagged union_.\n",
    "\n",
    "---\n",
    "\n",
    "These data types are called _algebraic data types_ (because sums and products 😊)\n",
    "\n",
    "The abbreviation is \"ADT,\" which unfortunately has a name clash with \"Abstract Data Types\""
   ]
  },
  {
   "cell_type": "code",
   "execution_count": null,
   "metadata": {},
   "outputs": [],
   "source": []
  }
 ],
 "metadata": {
  "kernelspec": {
   "display_name": "OCaml cs3110-2021sp",
   "language": "OCaml",
   "name": "ocaml-jupyter"
  },
  "language_info": {
   "codemirror_mode": "text/x-ocaml",
   "file_extension": ".ml",
   "mimetype": "text/x-ocaml",
   "name": "OCaml",
   "nbconverter_exporter": null,
   "pygments_lexer": "OCaml",
   "version": "4.11.1"
  }
 },
 "nbformat": 4,
 "nbformat_minor": 4
}
