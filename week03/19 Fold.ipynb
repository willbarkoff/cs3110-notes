{
 "cells": [
  {
   "cell_type": "markdown",
   "metadata": {},
   "source": [
    "# *19* Fold\n",
    "\n",
    "`List.fold_right` folds in values of the list from the right to the left. You can think of this as \"accumulating an answer\"\n",
    "- Repeatedly applies `f` to an element of a list and the \"answer so far\"\n",
    "- Folds in elements from the right\n",
    "\n",
    "Let's implement it ourselves:"
   ]
  },
  {
   "cell_type": "code",
   "execution_count": 1,
   "metadata": {},
   "outputs": [
    {
     "data": {
      "text/plain": [
       "val fold_right : ('a -> 'b -> 'b) -> 'a list -> 'b -> 'b = <fun>\n"
      ]
     },
     "execution_count": 1,
     "metadata": {},
     "output_type": "execute_result"
    }
   ],
   "source": [
    "let rec fold_right f lst acc = \n",
    "\tmatch lst with\n",
    "\t| [] -> acc\n",
    "\t| h :: t -> f h (fold_right f t acc);;"
   ]
  },
  {
   "cell_type": "markdown",
   "metadata": {},
   "source": [
    "`List.fold_left` does the opposite, it folds from the left.  Let's implement it!"
   ]
  },
  {
   "cell_type": "code",
   "execution_count": 2,
   "metadata": {},
   "outputs": [
    {
     "data": {
      "text/plain": [
       "val fold_left : ('a -> 'b -> 'a) -> 'a -> 'b list -> 'a = <fun>\n"
      ]
     },
     "execution_count": 2,
     "metadata": {},
     "output_type": "execute_result"
    }
   ],
   "source": [
    "let rec fold_left f acc lst =\n",
    "\tmatch lst with\n",
    "\t| [] -> acc\n",
    "\t| h :: t -> fold_left f (f acc h) t"
   ]
  },
  {
   "cell_type": "markdown",
   "metadata": {},
   "source": [
    "Mnemonic: The accumulator goes on the side of the list that the function is named."
   ]
  },
  {
   "cell_type": "markdown",
   "metadata": {},
   "source": [
    "Why do we bother having both a `fold_left` and a `fold_right`. Let's try addition:\n",
    "- **left to right**: $((0+1)+2)+3 = 6$\n",
    "- **right to left**: $1+(2+(3+0)) = 6$.\n",
    "\n",
    "They're both the same! But what about subtraction?\n",
    "- **left to right** $((0-1)-2)-3) = -6$\n",
    "- **right to left** $1-(2-(3-0))=2$\n",
    "\n",
    "In general, if the answer isn't associative **and** commutative, fold left and fold right do different things.\n",
    "\n",
    "In addition, `fold_left` is tail recursive; however, `fold_right` isn't. There's work to be done after the recursive call in `fold_right`.\n",
    "\n",
    "If you want a tail recursive from the right, you can reverse the list, then `fold_right`. This requires traversing the list an extra time, but doesn't increase asymptotic complexity."
   ]
  }
 ],
 "metadata": {
  "kernelspec": {
   "display_name": "OCaml cs3110-2021sp",
   "language": "OCaml",
   "name": "ocaml-jupyter"
  },
  "language_info": {
   "codemirror_mode": "text/x-ocaml",
   "file_extension": ".ml",
   "mimetype": "text/x-ocaml",
   "name": "OCaml",
   "nbconverter_exporter": null,
   "pygments_lexer": "OCaml",
   "version": "4.11.1"
  }
 },
 "nbformat": 4,
 "nbformat_minor": 4
}
