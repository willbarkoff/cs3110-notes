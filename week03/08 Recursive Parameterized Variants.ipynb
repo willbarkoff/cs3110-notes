{
 "cells": [
  {
   "cell_type": "markdown",
   "metadata": {},
   "source": [
    "# **08** Recursive Parameterized Variants\n",
    "\n",
    "Variants can be recursive and parameterized.\n",
    "\n",
    "Let's write our own type for lists of integers."
   ]
  },
  {
   "cell_type": "code",
   "execution_count": 1,
   "metadata": {},
   "outputs": [
    {
     "data": {
      "text/plain": [
       "type intlist = Nil | Cons of int * intlist\n"
      ]
     },
     "execution_count": 1,
     "metadata": {},
     "output_type": "execute_result"
    }
   ],
   "source": [
    "type intlist =\n",
    "\t| Nil\n",
    "\t| Cons of int * intlist"
   ]
  },
  {
   "cell_type": "markdown",
   "metadata": {},
   "source": [
    "Here we have a _recursive consructor_. Our `Cons` constructor includes `intlist`.\n",
    "\n",
    "We can write a length function."
   ]
  },
  {
   "cell_type": "code",
   "execution_count": 2,
   "metadata": {},
   "outputs": [
    {
     "data": {
      "text/plain": [
       "val length : intlist -> int = <fun>\n"
      ]
     },
     "execution_count": 2,
     "metadata": {},
     "output_type": "execute_result"
    }
   ],
   "source": [
    "let rec length = function\n",
    "\t| Nil -> 0\n",
    "\t| Cons (_, t) -> 1 + length t"
   ]
  },
  {
   "cell_type": "markdown",
   "metadata": {},
   "source": [
    "Now let's take the length of an int list!"
   ]
  },
  {
   "cell_type": "code",
   "execution_count": 3,
   "metadata": {},
   "outputs": [
    {
     "data": {
      "text/plain": [
       "- : intlist = Cons (1, Cons (2, Nil))\n"
      ]
     },
     "execution_count": 3,
     "metadata": {},
     "output_type": "execute_result"
    }
   ],
   "source": [
    "Cons (1 , Cons (2, Nil));;"
   ]
  },
  {
   "cell_type": "markdown",
   "metadata": {},
   "source": [
    "Now we have an int list with the first element `1`, and the second element `2`."
   ]
  },
  {
   "cell_type": "code",
   "execution_count": 5,
   "metadata": {},
   "outputs": [
    {
     "data": {
      "text/plain": [
       "- : int = 2\n"
      ]
     },
     "execution_count": 5,
     "metadata": {},
     "output_type": "execute_result"
    }
   ],
   "source": [
    "length @@ Cons (1 , Cons (2, Nil));;"
   ]
  },
  {
   "cell_type": "markdown",
   "metadata": {},
   "source": [
    "Now what if the next day we decided we also wanted to implement string lists. One possibility would be to repeat all of this code, but the issue with that would be shadowing, so we'd need to change names. This won't scale well at all.\n",
    "\n",
    "Whenever you're copying and pasting code, you pretty much doing something wrong. Rather than copying and pasting codes, good programmers extract ideas and parameterize this. \n",
    "\n",
    "How do we do this? We use a _parameterized variant_:"
   ]
  },
  {
   "cell_type": "code",
   "execution_count": 6,
   "metadata": {},
   "outputs": [
    {
     "data": {
      "text/plain": [
       "type 'a mylist = Nil | Cons of 'a * 'a mylist\n"
      ]
     },
     "execution_count": 6,
     "metadata": {},
     "output_type": "execute_result"
    }
   ],
   "source": [
    "type 'a mylist =\n",
    "\t| Nil\n",
    "\t| Cons of 'a * 'a mylist"
   ]
  },
  {
   "cell_type": "markdown",
   "metadata": {},
   "source": [
    "Now we have a better version of our list! We have a variant type! We can use `'a` in this definition wherever we want.\n",
    "\n",
    "Now let's write a length function for `mylist`."
   ]
  },
  {
   "cell_type": "code",
   "execution_count": 7,
   "metadata": {},
   "outputs": [
    {
     "data": {
      "text/plain": [
       "val length : 'a mylist -> int = <fun>\n"
      ]
     },
     "execution_count": 7,
     "metadata": {},
     "output_type": "execute_result"
    }
   ],
   "source": [
    "let rec length = function\n",
    "\t| Nil -> 0\n",
    "\t| Cons (_, t) -> 1 + length t"
   ]
  },
  {
   "cell_type": "code",
   "execution_count": 8,
   "metadata": {},
   "outputs": [
    {
     "data": {
      "text/plain": [
       "- : int = 1\n"
      ]
     },
     "execution_count": 8,
     "metadata": {},
     "output_type": "execute_result"
    },
    {
     "data": {
      "text/plain": [
       "- : int = 1\n"
      ]
     },
     "execution_count": 8,
     "metadata": {},
     "output_type": "execute_result"
    },
    {
     "data": {
      "text/plain": [
       "- : int = 2\n"
      ]
     },
     "execution_count": 8,
     "metadata": {},
     "output_type": "execute_result"
    }
   ],
   "source": [
    "length (Cons (1, Nil));;\n",
    "length (Cons (true, Nil));;\n",
    "length (Cons (true, Cons (false, Nil)));;"
   ]
  },
  {
   "cell_type": "markdown",
   "metadata": {},
   "source": [
    "We could also make our syntax nicer!"
   ]
  },
  {
   "cell_type": "code",
   "execution_count": 11,
   "metadata": {},
   "outputs": [
    {
     "data": {
      "text/plain": [
       "type 'a mylist = [] | (::) of 'a * 'a mylist\n"
      ]
     },
     "execution_count": 11,
     "metadata": {},
     "output_type": "execute_result"
    },
    {
     "data": {
      "text/plain": [
       "val length : 'a mylist -> int = <fun>\n"
      ]
     },
     "execution_count": 11,
     "metadata": {},
     "output_type": "execute_result"
    }
   ],
   "source": [
    "type 'a mylist =\n",
    "\t| []\n",
    "\t| (::) of 'a * 'a mylist\n",
    "\n",
    "let rec length = function\n",
    "\t| [] -> 0\n",
    "\t| _ :: t -> 1 + length t"
   ]
  },
  {
   "cell_type": "code",
   "execution_count": 13,
   "metadata": {},
   "outputs": [
    {
     "data": {
      "text/plain": [
       "val fib : int mylist =\n",
       "  (::) (1, (::) (1, (::) (2, (::) (3, (::) (5, (::) (8, (::) (13, [])))))))\n"
      ]
     },
     "execution_count": 13,
     "metadata": {},
     "output_type": "execute_result"
    }
   ],
   "source": [
    "let fib = 1 :: 1 :: 2 :: 3 :: 5 :: 8 :: 13 :: [];;"
   ]
  },
  {
   "cell_type": "markdown",
   "metadata": {},
   "source": [
    "Look at that! It has a type of `int mylist`"
   ]
  },
  {
   "cell_type": "code",
   "execution_count": 14,
   "metadata": {},
   "outputs": [
    {
     "data": {
      "text/plain": [
       "- : int = 7\n"
      ]
     },
     "execution_count": 14,
     "metadata": {},
     "output_type": "execute_result"
    }
   ],
   "source": [
    "length fib;;"
   ]
  },
  {
   "cell_type": "markdown",
   "metadata": {},
   "source": [
    "And our length function works well too :)\n",
    "\n",
    "In fact, this is exactly how the standard library implements lists:\n",
    "\n",
    "```ocaml\n",
    "type 'a list = [] | (::) of 'a * 'a list\n",
    "```\n",
    "\n",
    "That's it. `list` is a type constructor parameterized on the type variable 'a. `[]` and `::` are just constructors of the variant."
   ]
  }
 ],
 "metadata": {
  "kernelspec": {
   "display_name": "OCaml cs3110-2021sp",
   "language": "OCaml",
   "name": "ocaml-jupyter"
  },
  "language_info": {
   "codemirror_mode": "text/x-ocaml",
   "file_extension": ".ml",
   "mimetype": "text/x-ocaml",
   "name": "OCaml",
   "nbconverter_exporter": null,
   "pygments_lexer": "OCaml",
   "version": "4.11.1"
  }
 },
 "nbformat": 4,
 "nbformat_minor": 4
}
