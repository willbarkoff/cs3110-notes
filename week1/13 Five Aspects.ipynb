{
 "cells": [
  {
   "cell_type": "markdown",
   "metadata": {},
   "source": [
    "# **13** Five Aspects\n",
    "\n",
    "There are five aspects of learning any programming language.\n",
    "\n",
    "1. Syntax\n",
    "    - How do you write language constructs?\n",
    "2. Semantics\n",
    "    - What do programs mean?\n",
    "3. Idioms\n",
    "    - What are typical patterns for language features?\n",
    "4. Libraries\n",
    "    - What does the language provide as \"standard?\"\n",
    "5. Tools\n",
    "    - How does the language make your life easier?\n",
    "    \n",
    "By understanding and applying these five aspects, you can learn any programming language pretty easily."
   ]
  }
 ],
 "metadata": {
  "kernelspec": {
   "display_name": "OCaml cs3110-2021sp",
   "language": "OCaml",
   "name": "ocaml-jupyter"
  },
  "language_info": {
   "codemirror_mode": "text/x-ocaml",
   "file_extension": ".ml",
   "mimetype": "text/x-ocaml",
   "name": "OCaml",
   "nbconverter_exporter": null,
   "pygments_lexer": "OCaml",
   "version": "4.11.1"
  }
 },
 "nbformat": 4,
 "nbformat_minor": 4
}
