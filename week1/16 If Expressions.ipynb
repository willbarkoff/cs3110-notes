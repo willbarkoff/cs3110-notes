{
 "cells": [
  {
   "cell_type": "markdown",
   "metadata": {},
   "source": [
    "# **16** If Expressions\n",
    "\n",
    "If expressions allow one expression to conditionally be evaluated instead of another expression. They use the keywords `if then else`."
   ]
  },
  {
   "cell_type": "code",
   "execution_count": 1,
   "metadata": {},
   "outputs": [
    {
     "data": {
      "text/plain": [
       "- : string = \"boo\"\n"
      ]
     },
     "execution_count": 1,
     "metadata": {},
     "output_type": "execute_result"
    }
   ],
   "source": [
    "if \"batman\" > \"superman\" then \"yay\" else \"boo\";;"
   ]
  },
  {
   "cell_type": "markdown",
   "metadata": {},
   "source": [
    "Theres a few things at play here. The syntax is\n",
    "\n",
    "`if <guard> then <expression> else <expression>`.\n",
    "\n",
    "The guard must be a boolean, and both expressions must have the same type"
   ]
  },
  {
   "cell_type": "code",
   "execution_count": 2,
   "metadata": {},
   "outputs": [
    {
     "ename": "error",
     "evalue": "compile_error",
     "output_type": "error",
     "traceback": [
      "File \"[2]\", line 1, characters 3-4:\n1 | if 0 then \"yay\" else \"boo\";;\n       ^\nError: This expression has type int but an expression was expected of type\n         bool\n       because it is in the condition of an if-statement\n"
     ]
    }
   ],
   "source": [
    "if 0 then \"yay\" else \"boo\";;"
   ]
  },
  {
   "cell_type": "code",
   "execution_count": 3,
   "metadata": {},
   "outputs": [
    {
     "ename": "error",
     "evalue": "compile_error",
     "output_type": "error",
     "traceback": [
      "File \"[3]\", line 1, characters 24-25:\n1 | if true then \"yay\" else 1;;\n                            ^\nError: This expression has type int but an expression was expected of type\n         string\n"
     ]
    }
   ],
   "source": [
    "if true then \"yay\" else 1;;"
   ]
  },
  {
   "cell_type": "markdown",
   "metadata": {},
   "source": [
    "These both fail because of incorrect types"
   ]
  },
  {
   "cell_type": "markdown",
   "metadata": {},
   "source": [
    "The `if` expression is very similar to the ternary operator (`? :`) in other languages.\n",
    "\n",
    "---\n",
    "\n",
    "Now let's look at `if` expressions on paper.\n",
    "\n",
    "## Syntax\n",
    "`if e1 then e2 else e3`\n",
    "\n",
    "## Evaluation\n",
    "- if `e1` ==> `true` and `e2` ==> `v`, then `if e1 then e2 else e3` ==> `v`\n",
    "- if `e1` ==> `false` and `e3` ==> `v`, then `if e1 then e2 else e3` ==> `v`\n",
    "\n",
    "## Type checking\n",
    "if `e1 : bool` and `e2 : t` and `e3 : t`, then `if e1 then e2 else e3 : t`"
   ]
  },
  {
   "cell_type": "markdown",
   "metadata": {},
   "source": [
    "It's worth noting that \"==>\" means \"evaluates to\" and \":\" means \"has type.\""
   ]
  },
  {
   "cell_type": "code",
   "execution_count": null,
   "metadata": {},
   "outputs": [],
   "source": []
  }
 ],
 "metadata": {
  "kernelspec": {
   "display_name": "OCaml cs3110-2021sp",
   "language": "OCaml",
   "name": "ocaml-jupyter"
  },
  "language_info": {
   "codemirror_mode": "text/x-ocaml",
   "file_extension": ".ml",
   "mimetype": "text/x-ocaml",
   "name": "OCaml",
   "nbconverter_exporter": null,
   "pygments_lexer": "OCaml",
   "version": "4.11.1"
  }
 },
 "nbformat": 4,
 "nbformat_minor": 4
}
