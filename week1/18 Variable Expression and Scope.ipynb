{
 "cells": [
  {
   "cell_type": "markdown",
   "metadata": {},
   "source": [
    "# **18** Variable Expression and Scope"
   ]
  },
  {
   "cell_type": "code",
   "execution_count": 1,
   "metadata": {},
   "outputs": [
    {
     "data": {
      "text/plain": [
       "val x : int = 42\n"
      ]
     },
     "execution_count": 1,
     "metadata": {},
     "output_type": "execute_result"
    }
   ],
   "source": [
    "let x = 42;;"
   ]
  },
  {
   "cell_type": "markdown",
   "metadata": {},
   "source": [
    "Wait, how exactly are we defining `x`? We're essentailly writing\n",
    "\n",
    "```ocaml\n",
    "let x = 42 in\n",
    "    (* the rest of what we type in the toplevel *)\n",
    "```"
   ]
  },
  {
   "cell_type": "code",
   "execution_count": 2,
   "metadata": {},
   "outputs": [
    {
     "data": {
      "text/plain": [
       "val x : int = 7\n"
      ]
     },
     "execution_count": 2,
     "metadata": {},
     "output_type": "execute_result"
    }
   ],
   "source": [
    "let x = 7;;"
   ]
  },
  {
   "cell_type": "markdown",
   "metadata": {},
   "source": [
    "We're not re-declaring `x`, we're just declaring another `x` on top of it! The equivalent of\n",
    "\n",
    "```ocaml\n",
    "let x = 42 in\n",
    "    let x = 7 in\n",
    "        (* everything else *)\n",
    "```\n",
    "\n",
    "This is called _overlapping scope_. It's confusing, and here's another example:"
   ]
  },
  {
   "cell_type": "code",
   "execution_count": 3,
   "metadata": {},
   "outputs": [
    {
     "data": {
      "text/plain": [
       "- : int = 11\n"
      ]
     },
     "execution_count": 3,
     "metadata": {},
     "output_type": "execute_result"
    }
   ],
   "source": [
    "let x = 5 in (let x = 6 in x) + x;;"
   ]
  },
  {
   "cell_type": "markdown",
   "metadata": {},
   "source": [
    "It's a bit of a brain twister what this means, and while it does have a strict definiton, it's annoying to think about. Let's avoid it in our programs.\n",
    "\n",
    "Enter the **principle of name irrelivence**, a term invented by Prof. Clarkson. It says that _the name of a variable shouldn't intrinsically matter_.\n",
    "\n",
    "E.g. in math, these are the same function:\n",
    "- $f(x) = x + 1$\n",
    "- $f(y) = y + 1$\n",
    "\n",
    "They both add 1 to their argument.\n",
    "\n",
    "To obey this rule, we need to **stop substituting when we reach a binding of the same name**."
   ]
  },
  {
   "cell_type": "code",
   "execution_count": 4,
   "metadata": {},
   "outputs": [
    {
     "name": "stderr",
     "output_type": "stream",
     "text": [
      "File \"[4]\", line 1, characters 4-5:\n",
      "1 | let x = 5 in (let x = 6 in x);;\n",
      "        ^\n",
      "Warning 26: unused variable x.\n"
     ]
    },
    {
     "data": {
      "text/plain": [
       "- : int = 6\n"
      ]
     },
     "execution_count": 4,
     "metadata": {},
     "output_type": "execute_result"
    }
   ],
   "source": [
    "let x = 5 in (let x = 6 in x);;"
   ]
  },
  {
   "cell_type": "markdown",
   "metadata": {},
   "source": [
    "See that unused variable warning? That's because we just dropped the value `5` for x when we reached the next let binding."
   ]
  }
 ],
 "metadata": {
  "kernelspec": {
   "display_name": "OCaml cs3110-2021sp",
   "language": "OCaml",
   "name": "ocaml-jupyter"
  },
  "language_info": {
   "codemirror_mode": "text/x-ocaml",
   "file_extension": ".ml",
   "mimetype": "text/x-ocaml",
   "name": "OCaml",
   "nbconverter_exporter": null,
   "pygments_lexer": "OCaml",
   "version": "4.11.1"
  }
 },
 "nbformat": 4,
 "nbformat_minor": 4
}
