{
 "cells": [
  {
   "cell_type": "markdown",
   "metadata": {},
   "source": [
    "# **17** Utop with Modules\n",
    "\n",
    "When we're working with modules, there are some subtleties that you need to be aware of. When you use `#use` in utop, you're essentially copying the entire contents of the file into utop."
   ]
  },
  {
   "cell_type": "code",
   "execution_count": 1,
   "metadata": {},
   "outputs": [
    {
     "data": {
      "text/plain": [
       "module type TestSig = sig type t val f : t -> t val sample_value : t end\n"
      ]
     },
     "execution_count": 1,
     "metadata": {},
     "output_type": "execute_result"
    },
    {
     "data": {
      "text/plain": [
       "module IntF : sig type t = int val f : int -> int val sample_value : int end\n"
      ]
     },
     "execution_count": 1,
     "metadata": {},
     "output_type": "execute_result"
    },
    {
     "data": {
      "text/plain": [
       "module IntFSealed : TestSig\n"
      ]
     },
     "execution_count": 1,
     "metadata": {},
     "output_type": "execute_result"
    }
   ],
   "source": [
    "module type TestSig = sig\n",
    "\ttype t\n",
    "\tval f : t -> t\n",
    "\t\n",
    "\tval sample_value : t\n",
    "end\n",
    "\n",
    "module IntF = struct\n",
    "\ttype t = int\n",
    "\tlet f = succ\n",
    "\t\n",
    "\tlet sample_value = 8;\n",
    "end\n",
    "\n",
    "module IntFSealed : TestSig = IntF"
   ]
  },
  {
   "cell_type": "code",
   "execution_count": 2,
   "metadata": {},
   "outputs": [
    {
     "data": {
      "text/plain": [
       "- : int = 8\n"
      ]
     },
     "execution_count": 2,
     "metadata": {},
     "output_type": "execute_result"
    },
    {
     "data": {
      "text/plain": [
       "- : IntFSealed.t = <abstr>\n"
      ]
     },
     "execution_count": 2,
     "metadata": {},
     "output_type": "execute_result"
    }
   ],
   "source": [
    "IntF.sample_value;;\n",
    "IntFSealed.sample_value;;"
   ]
  },
  {
   "cell_type": "markdown",
   "metadata": {},
   "source": [
    "Notice how utop prints out the value as `<abstr>`, rather than `8`. This is because utop is unaware of the implementation of `IntFSealed`; however, it is aware of the implementation of IntF, as it is unsealed.\n",
    "\n",
    "Recall that utop's `#use` directive is as if we directly typed the code into utop. This means that it doesn't have any concept of the interface file. On the other hand, if we use `ocamlbuild`, it uses the entire compilation unit.\n",
    "\n",
    "If we use `#directory \"_build\"` to enter the `ocamlbuild` directory, and then `#load` the `.cmo` file, this is the equivalent of how it works.\n",
    "\n",
    "You can also specify a `.ocamlinit` file, which will run on the launch of utop."
   ]
  }
 ],
 "metadata": {
  "kernelspec": {
   "display_name": "OCaml cs3110-2021sp",
   "language": "OCaml",
   "name": "ocaml-jupyter"
  },
  "language_info": {
   "codemirror_mode": "text/x-ocaml",
   "file_extension": ".ml",
   "mimetype": "text/x-ocaml",
   "name": "OCaml",
   "nbconverter_exporter": null,
   "pygments_lexer": "OCaml",
   "version": "4.11.1"
  }
 },
 "nbformat": 4,
 "nbformat_minor": 4
}
