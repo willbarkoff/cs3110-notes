{
 "cells": [
  {
   "cell_type": "markdown",
   "metadata": {},
   "source": [
    "# **03** Modules and Structures"
   ]
  },
  {
   "cell_type": "code",
   "execution_count": 1,
   "metadata": {},
   "outputs": [
    {
     "data": {
      "text/plain": [
       "type 'a mylist = Nil | Cons of 'a * 'a mylist\n"
      ]
     },
     "execution_count": 1,
     "metadata": {},
     "output_type": "execute_result"
    },
    {
     "data": {
      "text/plain": [
       "val map : ('a -> 'b) -> 'a mylist -> 'b mylist = <fun>\n"
      ]
     },
     "execution_count": 1,
     "metadata": {},
     "output_type": "execute_result"
    },
    {
     "data": {
      "text/plain": [
       "type 'a tree = Leaf | Node of 'a * 'a tree * 'a tree\n"
      ]
     },
     "execution_count": 1,
     "metadata": {},
     "output_type": "execute_result"
    },
    {
     "data": {
      "text/plain": [
       "val map : ('a -> 'b) -> 'a tree -> 'b tree = <fun>\n"
      ]
     },
     "execution_count": 1,
     "metadata": {},
     "output_type": "execute_result"
    }
   ],
   "source": [
    "type 'a mylist =\n",
    "\t| Nil\n",
    "\t| Cons of 'a * 'a mylist\n",
    "\n",
    "let rec map f = function\n",
    "\t| Nil -> Nil\n",
    "\t| Cons (h, t) -> Cons (f h, map f t)\n",
    "\t\n",
    "type 'a tree =\n",
    "\t| Leaf\n",
    "\t| Node of 'a * 'a tree * 'a tree\n",
    "\n",
    "let rec map f = function\n",
    "\t| Leaf -> Leaf\n",
    "\t| Node (v, l, r) -> Node (f v, map f l, map f r)"
   ]
  },
  {
   "cell_type": "code",
   "execution_count": 2,
   "metadata": {},
   "outputs": [
    {
     "ename": "error",
     "evalue": "compile_error",
     "output_type": "error",
     "traceback": [
      "File \"[2]\", line 1, characters 20-24:\n1 | let lst = map succ (Cons (1, Nil))\n                        ^^^^\nError: This variant expression is expected to have type int tree\n       The constructor Cons does not belong to type tree\n"
     ]
    }
   ],
   "source": [
    "let lst = map succ (Cons (1, Nil))"
   ]
  },
  {
   "cell_type": "markdown",
   "metadata": {},
   "source": [
    "Well that's an issue! OCaml is trying to use the most recent definition of `map`, which is the one for `'a tree`, not `'a mylist`.\n",
    "\n",
    "We can fix this with a _module_."
   ]
  },
  {
   "cell_type": "code",
   "execution_count": 3,
   "metadata": {},
   "outputs": [
    {
     "data": {
      "text/plain": [
       "module MyList :\n",
       "  sig\n",
       "    type 'a mylist = Nil | Cons of 'a * 'a mylist\n",
       "    val map : ('a -> 'b) -> 'a mylist -> 'b mylist\n",
       "  end\n"
      ]
     },
     "execution_count": 3,
     "metadata": {},
     "output_type": "execute_result"
    },
    {
     "data": {
      "text/plain": [
       "module Tree :\n",
       "  sig\n",
       "    type 'a tree = Leaf | Node of 'a * 'a tree * 'a tree\n",
       "    val map : ('a -> 'b) -> 'a tree -> 'b tree\n",
       "  end\n"
      ]
     },
     "execution_count": 3,
     "metadata": {},
     "output_type": "execute_result"
    }
   ],
   "source": [
    "module MyList = struct\n",
    "\ttype 'a mylist =\n",
    "\t\t| Nil\n",
    "\t\t| Cons of 'a * 'a mylist\n",
    "\n",
    "\tlet rec map f = function\n",
    "\t\t| Nil -> Nil\n",
    "\t\t| Cons (h, t) -> Cons (f h, map f t)\n",
    "end\n",
    "\n",
    "module Tree = struct\n",
    "\ttype 'a tree =\n",
    "\t\t| Leaf\n",
    "\t\t| Node of 'a * 'a tree * 'a tree\n",
    "\n",
    "\tlet rec map f = function\n",
    "\t\t| Leaf -> Leaf\n",
    "\t\t| Node (v, l, r) -> Node (f v, map f l, map f r)\n",
    "end"
   ]
  },
  {
   "cell_type": "markdown",
   "metadata": {},
   "source": [
    "Awesome, now we have _modules_!"
   ]
  },
  {
   "cell_type": "code",
   "execution_count": 4,
   "metadata": {},
   "outputs": [
    {
     "ename": "error",
     "evalue": "compile_error",
     "output_type": "error",
     "traceback": [
      "File \"[4]\", line 1, characters 20-24:\n1 | let lst = map succ (Cons (1, Nil))\n                        ^^^^\nError: This variant expression is expected to have type int tree\n       The constructor Cons does not belong to type tree\n"
     ]
    }
   ],
   "source": [
    "let lst = map succ (Cons (1, Nil))"
   ]
  },
  {
   "cell_type": "markdown",
   "metadata": {},
   "source": [
    "Hmm that still didn't work. That's because we need to specify the name."
   ]
  },
  {
   "cell_type": "code",
   "execution_count": 5,
   "metadata": {},
   "outputs": [
    {
     "data": {
      "text/plain": [
       "val lst : int MyList.mylist = MyList.Cons (2, MyList.Nil)\n"
      ]
     },
     "execution_count": 5,
     "metadata": {},
     "output_type": "execute_result"
    }
   ],
   "source": [
    "let lst = MyList.map succ (Cons (1, Nil))"
   ]
  },
  {
   "cell_type": "markdown",
   "metadata": {},
   "source": [
    "Note that we have an `int MyList.mylist`, not a `MyList.int mylist` or anything like that.\n",
    "\n",
    "All three of these are valid ways of specifying the type of a tree node."
   ]
  },
  {
   "cell_type": "code",
   "execution_count": 6,
   "metadata": {},
   "outputs": [
    {
     "data": {
      "text/plain": [
       "val t : int Tree.tree = Tree.Node (1, Tree.Leaf, Tree.Leaf)\n"
      ]
     },
     "execution_count": 6,
     "metadata": {},
     "output_type": "execute_result"
    },
    {
     "data": {
      "text/plain": [
       "val t : int Tree.tree = Tree.Node (1, Tree.Leaf, Tree.Leaf)\n"
      ]
     },
     "execution_count": 6,
     "metadata": {},
     "output_type": "execute_result"
    },
    {
     "data": {
      "text/plain": [
       "val t : int Tree.tree = Tree.Node (1, Tree.Leaf, Tree.Leaf)\n"
      ]
     },
     "execution_count": 6,
     "metadata": {},
     "output_type": "execute_result"
    }
   ],
   "source": [
    "let t = Tree.Node(1, Tree.Leaf, Tree.Leaf)\n",
    "let t = Tree.Node(1, Leaf, Leaf)\n",
    "let t : int Tree.tree = Node(1, Leaf, Leaf)"
   ]
  }
 ],
 "metadata": {
  "kernelspec": {
   "display_name": "OCaml cs3110-2021sp",
   "language": "OCaml",
   "name": "ocaml-jupyter"
  },
  "language_info": {
   "codemirror_mode": "text/x-ocaml",
   "file_extension": ".ml",
   "mimetype": "text/x-ocaml",
   "name": "OCaml",
   "nbconverter_exporter": null,
   "pygments_lexer": "OCaml",
   "version": "4.11.1"
  }
 },
 "nbformat": 4,
 "nbformat_minor": 4
}
