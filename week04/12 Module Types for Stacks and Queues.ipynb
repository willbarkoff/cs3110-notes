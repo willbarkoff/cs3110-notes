{
 "cells": [
  {
   "cell_type": "markdown",
   "metadata": {},
   "source": [
    "# **12** Module Types for Stacks and Queues"
   ]
  },
  {
   "cell_type": "markdown",
   "metadata": {},
   "source": [
    "Let's write a signature to describe the stacks we wrote before."
   ]
  },
  {
   "cell_type": "code",
   "execution_count": 1,
   "metadata": {},
   "outputs": [
    {
     "data": {
      "text/plain": [
       "module type ListStackSig =\n",
       "  sig\n",
       "    val empty : 'a list\n",
       "    val push : 'a -> 'a list -> 'a list\n",
       "    val peek : 'a list -> 'a\n",
       "    val pop : 'a list -> 'a list\n",
       "  end\n"
      ]
     },
     "execution_count": 1,
     "metadata": {},
     "output_type": "execute_result"
    }
   ],
   "source": [
    "module type ListStackSig = sig\n",
    "\tval empty : 'a list\n",
    "\tval push : 'a -> 'a list -> 'a list\n",
    "\tval peek : 'a list -> 'a\n",
    "\tval pop : 'a list -> 'a list\n",
    "end"
   ]
  },
  {
   "cell_type": "markdown",
   "metadata": {},
   "source": [
    "Now let's grab our code from before."
   ]
  },
  {
   "cell_type": "code",
   "execution_count": 2,
   "metadata": {},
   "outputs": [
    {
     "data": {
      "text/plain": [
       "module ListStack : ListStackSig\n"
      ]
     },
     "execution_count": 2,
     "metadata": {},
     "output_type": "execute_result"
    }
   ],
   "source": [
    "module ListStack : ListStackSig = struct\n",
    "\ttype 'a stack = 'a list\n",
    "\t\n",
    "\tlet empty = []\n",
    "\t\n",
    "\tlet push x s = x :: s\n",
    "\t\n",
    "\tlet peek = function\n",
    "\t\t| [] -> failwith \"Empty\"\n",
    "\t\t| x :: _ -> x\n",
    "\t\n",
    "\tlet pop = function\n",
    "\t\t| [] -> failwith \"Empty\"\n",
    "\t\t| _ :: s -> s\n",
    "\t\n",
    "end"
   ]
  },
  {
   "cell_type": "markdown",
   "metadata": {},
   "source": [
    "Yay, no error! The types match, but what about `MyStack`?"
   ]
  },
  {
   "cell_type": "code",
   "execution_count": 3,
   "metadata": {},
   "outputs": [
    {
     "ename": "error",
     "evalue": "compile_error",
     "output_type": "error",
     "traceback": [
      "File \"[3]\", lines 1-17, characters 32-3:\n 1 | ................................struct\n 2 | \ttype 'a stack =\n 3 | \t\t| Empty\n 4 | \t\t| Entry of 'a * 'a stack\n 5 | \n...\n14 | \tlet pop = function\n15 | \t\t| Empty -> failwith \"Empty\"\n16 | \t\t| Entry (_, x) -> x\n17 | end\nError: Signature mismatch:\n       ...\n       Values do not match:\n         val empty : 'a stack\n       is not included in\n         val empty : 'a list\n       File \"[1]\", line 2, characters 1-20: Expected declaration\n       File \"[3]\", line 6, characters 5-10: Actual declaration\n"
     ]
    }
   ],
   "source": [
    "module MyStack : ListStackSig = struct\n",
    "\ttype 'a stack =\n",
    "\t\t| Empty\n",
    "\t\t| Entry of 'a * 'a stack\n",
    "\n",
    "\tlet empty = Empty\n",
    "\t\n",
    "\tlet push x s = Entry (x, s)\n",
    "\t\n",
    "\tlet peek = function\n",
    "\t\t| Empty -> failwith \"Empty\"\n",
    "\t\t| Entry (x, _) -> x\n",
    "\t\t\n",
    "\tlet pop = function\n",
    "\t\t| Empty -> failwith \"Empty\"\n",
    "\t\t| Entry (_, x) -> x\n",
    "end"
   ]
  },
  {
   "cell_type": "markdown",
   "metadata": {},
   "source": [
    "Uh oh... our signature required `empty` to have type `'a list`."
   ]
  },
  {
   "cell_type": "markdown",
   "metadata": {},
   "source": [
    "The signature we wrote for stack wasn't general enough. Let's generalize it!"
   ]
  },
  {
   "cell_type": "code",
   "execution_count": 6,
   "metadata": {},
   "outputs": [
    {
     "data": {
      "text/plain": [
       "module type StackSig =\n",
       "  sig\n",
       "    type 'a stack\n",
       "    val empty : 'a stack\n",
       "    val push : 'a -> 'a stack -> 'a stack\n",
       "    val peek : 'a stack -> 'a\n",
       "    val pop : 'a stack -> 'a stack\n",
       "  end\n"
      ]
     },
     "execution_count": 6,
     "metadata": {},
     "output_type": "execute_result"
    }
   ],
   "source": [
    "module type StackSig = sig\n",
    "\ttype 'a stack\n",
    "\tval empty : 'a stack\n",
    "\tval push : 'a -> 'a stack -> 'a stack\n",
    "\tval peek : 'a stack -> 'a\n",
    "\tval pop : 'a stack -> 'a stack\n",
    "end"
   ]
  },
  {
   "cell_type": "code",
   "execution_count": 7,
   "metadata": {},
   "outputs": [
    {
     "data": {
      "text/plain": [
       "module ListStack : StackSig\n"
      ]
     },
     "execution_count": 7,
     "metadata": {},
     "output_type": "execute_result"
    },
    {
     "data": {
      "text/plain": [
       "module MyStack : StackSig\n"
      ]
     },
     "execution_count": 7,
     "metadata": {},
     "output_type": "execute_result"
    }
   ],
   "source": [
    "module ListStack : StackSig = struct\n",
    "\ttype 'a stack = 'a list\n",
    "\t\n",
    "\tlet empty = []\n",
    "\t\n",
    "\tlet push x s = x :: s\n",
    "\t\n",
    "\tlet peek = function\n",
    "\t\t| [] -> failwith \"Empty\"\n",
    "\t\t| x :: _ -> x\n",
    "\t\n",
    "\tlet pop = function\n",
    "\t\t| [] -> failwith \"Empty\"\n",
    "\t\t| _ :: s -> s\n",
    "\t\n",
    "end\n",
    "\n",
    "module MyStack : StackSig = struct\n",
    "\ttype 'a stack =\n",
    "\t\t| Empty\n",
    "\t\t| Entry of 'a * 'a stack\n",
    "\n",
    "\tlet empty = Empty\n",
    "\t\n",
    "\tlet push x s = Entry (x, s)\n",
    "\t\n",
    "\tlet peek = function\n",
    "\t\t| Empty -> failwith \"Empty\"\n",
    "\t\t| Entry (x, _) -> x\n",
    "\t\t\n",
    "\tlet pop = function\n",
    "\t\t| Empty -> failwith \"Empty\"\n",
    "\t\t| Entry (_, x) -> x\n",
    "end"
   ]
  },
  {
   "cell_type": "markdown",
   "metadata": {},
   "source": [
    "Now our signature is general enough for both of these!\n",
    "\n",
    "Let's make one for queues."
   ]
  },
  {
   "cell_type": "code",
   "execution_count": 10,
   "metadata": {},
   "outputs": [
    {
     "data": {
      "text/plain": [
       "module type Queue =\n",
       "  sig\n",
       "    type 'a queue\n",
       "    val empty : 'a queue\n",
       "    val enqueue : 'a -> 'a queue -> 'a queue\n",
       "    val peek : 'a queue -> 'a option\n",
       "    val dequeue : 'a queue -> 'a queue option\n",
       "  end\n"
      ]
     },
     "execution_count": 10,
     "metadata": {},
     "output_type": "execute_result"
    }
   ],
   "source": [
    "module type Queue = sig\n",
    "\ttype 'a queue\n",
    "\tval empty : 'a queue\n",
    "\tval enqueue : 'a -> 'a queue -> 'a queue\n",
    "\tval peek : 'a queue -> 'a option\n",
    "\tval dequeue : 'a queue -> 'a queue option\n",
    "end"
   ]
  },
  {
   "cell_type": "markdown",
   "metadata": {},
   "source": [
    "And let's bring in our queues from earlier"
   ]
  },
  {
   "cell_type": "code",
   "execution_count": 11,
   "metadata": {},
   "outputs": [
    {
     "data": {
      "text/plain": [
       "module ListQueue : Queue\n"
      ]
     },
     "execution_count": 11,
     "metadata": {},
     "output_type": "execute_result"
    },
    {
     "data": {
      "text/plain": [
       "module TwoListQueue : Queue\n"
      ]
     },
     "execution_count": 11,
     "metadata": {},
     "output_type": "execute_result"
    }
   ],
   "source": [
    "module ListQueue : Queue = struct\n",
    "\ttype 'a queue = 'a list\n",
    "\t\n",
    "\tlet empty = []\n",
    "\t\n",
    "\t(* use the append operator to put it at the end of the list *)\n",
    "\t(* linear time :'( *)\n",
    "\tlet enqueue x q = q @ [x]\n",
    "\t\n",
    "\tlet dequeue = function\n",
    "\t\t| [] -> None\n",
    "\t\t| _ :: t -> Some t\n",
    "\t\n",
    "\tlet peek = function\n",
    "\t\t| [] -> None\n",
    "\t\t| h :: _ -> Some h\n",
    "end\n",
    "\n",
    "module TwoListQueue : Queue = struct\n",
    "\t\n",
    "\t(*\n",
    "\t\t[{front = [a; b;]; back = [e; d; c;]}] represents the queue [a; b; c; d; e]\n",
    "\t\tIf [front] is empty, then back is empty too.\n",
    "\t*)\n",
    "\ttype 'a queue = {\n",
    "\t\tfront : 'a list;\n",
    "\t\tback : 'a list;\n",
    "\t}\n",
    "\t\n",
    "\tlet empty = {front = []; back = [];}\n",
    "\t\n",
    "\t(* Precondition: If the front is empty, the back is also empty *)\n",
    "\tlet peek = function\n",
    "\t\t| {front = []} -> None\n",
    "\t\t| {front = x :: _} -> Some x\n",
    "\t\n",
    "\tlet enqueue x = function\n",
    "\t\t| {front = []} -> {front = [x]; back = []}\n",
    "\t\t| q -> {q with back = x :: q.back}\n",
    "\t\n",
    "\t\n",
    "\t(* This dequeue operation is constant time, unless the front becomes empty. *)\n",
    "\tlet dequeue = function\n",
    "\t\t| {front = []} -> None\n",
    "\t\t| {front = h :: []; back} -> Some {front = (List.rev back); back = []}\n",
    "\t\t| {front = _ :: t; back} -> Some {front = t ; back}\n",
    "end"
   ]
  },
  {
   "cell_type": "markdown",
   "metadata": {},
   "source": [
    "We can also use modules as values"
   ]
  },
  {
   "cell_type": "code",
   "execution_count": 12,
   "metadata": {},
   "outputs": [
    {
     "data": {
      "text/plain": [
       "module CoolQueue = TwoListQueue\n"
      ]
     },
     "execution_count": 12,
     "metadata": {},
     "output_type": "execute_result"
    }
   ],
   "source": [
    "module CoolQueue = TwoListQueue"
   ]
  }
 ],
 "metadata": {
  "kernelspec": {
   "display_name": "OCaml cs3110-2021sp",
   "language": "OCaml",
   "name": "ocaml-jupyter"
  },
  "language_info": {
   "codemirror_mode": "text/x-ocaml",
   "file_extension": ".ml",
   "mimetype": "text/x-ocaml",
   "name": "OCaml",
   "nbconverter_exporter": null,
   "pygments_lexer": "OCaml",
   "version": "4.11.1"
  }
 },
 "nbformat": 4,
 "nbformat_minor": 4
}
