{
 "cells": [
  {
   "cell_type": "markdown",
   "metadata": {},
   "source": [
    "# **09** Exceptions vs. Options and More Application Operators\n",
    "\n",
    "We've implemented stacks and queues with lists now! The only difference in our data structures themselves is our use of exceptions and options."
   ]
  },
  {
   "cell_type": "code",
   "execution_count": 1,
   "metadata": {},
   "outputs": [
    {
     "data": {
      "text/plain": [
       "module ListStack :\n",
       "  sig\n",
       "    type 'a stack = 'a list\n",
       "    val empty : 'a list\n",
       "    val push : 'a -> 'a list -> 'a list\n",
       "    val peek : 'a list -> 'a\n",
       "    val pop : 'a list -> 'a list\n",
       "  end\n"
      ]
     },
     "execution_count": 1,
     "metadata": {},
     "output_type": "execute_result"
    },
    {
     "data": {
      "text/plain": [
       "module ListQueue :\n",
       "  sig\n",
       "    type 'a queue = 'a list\n",
       "    val empty : 'a list\n",
       "    val enqueue : 'a -> 'a list -> 'a list\n",
       "    val dequeue : 'a list -> 'a list option\n",
       "    val peek : 'a list -> 'a option\n",
       "  end\n"
      ]
     },
     "execution_count": 1,
     "metadata": {},
     "output_type": "execute_result"
    }
   ],
   "source": [
    "module ListStack = struct\n",
    "\ttype 'a stack = 'a list\n",
    "\t\n",
    "\tlet empty = []\n",
    "\t\n",
    "\tlet push x s = x :: s\n",
    "\t\n",
    "\tlet peek = function\n",
    "\t\t| [] -> failwith \"Empty\"\n",
    "\t\t| x :: _ -> x\n",
    "\t\n",
    "\tlet pop = function\n",
    "\t\t| [] -> failwith \"Empty\"\n",
    "\t\t| _ :: s -> s\n",
    "\t\n",
    "end\n",
    "\n",
    "module ListQueue = struct\n",
    "\ttype 'a queue = 'a list\n",
    "\t\n",
    "\tlet empty = []\n",
    "\t\n",
    "\t(* use the append operator to put it at the end of the list *)\n",
    "\t(* linear time :'( *)\n",
    "\tlet enqueue x q = q @ [x]\n",
    "\t\n",
    "\tlet dequeue = function\n",
    "\t\t| [] -> None\n",
    "\t\t| _ :: t -> Some t\n",
    "\t\n",
    "\tlet peek = function\n",
    "\t\t| [] -> None\n",
    "\t\t| h :: _ -> Some h\n",
    "end"
   ]
  },
  {
   "cell_type": "markdown",
   "metadata": {},
   "source": [
    "Exceptions make it easy to pipeline operators! You can just keep adding operations as you go."
   ]
  },
  {
   "cell_type": "code",
   "execution_count": 2,
   "metadata": {},
   "outputs": [
    {
     "data": {
      "text/plain": [
       "- : int list = [43]\n"
      ]
     },
     "execution_count": 2,
     "metadata": {},
     "output_type": "execute_result"
    }
   ],
   "source": [
    "ListStack.(empty |> push 42 |> pop |> push 43)"
   ]
  },
  {
   "cell_type": "markdown",
   "metadata": {},
   "source": [
    "Options make that a bit trickier."
   ]
  },
  {
   "cell_type": "code",
   "execution_count": 3,
   "metadata": {},
   "outputs": [
    {
     "ename": "error",
     "evalue": "compile_error",
     "output_type": "error",
     "traceback": [
      "File \"[3]\", line 1, characters 45-55:\n1 | ListQueue.(empty |> enqueue 42 |> dequeue |> enqueue 43)\n                                                 ^^^^^^^^^^\nError: This expression has type int list -> int list\n       but an expression was expected of type int list option -> 'a\n       Type int list is not compatible with type int list option \n"
     ]
    }
   ],
   "source": [
    "ListQueue.(empty |> enqueue 42 |> dequeue |> enqueue 43)"
   ]
  },
  {
   "cell_type": "markdown",
   "metadata": {},
   "source": [
    " Uh oh... We get a type checking error because `dequeue` returned an option, while `enqueue` expected an `int list`, not an `int list option`.\n",
    " \n",
    " One way to fix this would be to write a new pipeline operator to deal with this. Recall the definition of the pipeline operator:\n",
    " ```ocaml\n",
    " let ( |> ) x f = f x\n",
    " ```"
   ]
  },
  {
   "cell_type": "code",
   "execution_count": 4,
   "metadata": {},
   "outputs": [
    {
     "data": {
      "text/plain": [
       "val ( >>| ) : 'a option -> ('a -> 'b) -> 'b option = <fun>\n"
      ]
     },
     "execution_count": 4,
     "metadata": {},
     "output_type": "execute_result"
    }
   ],
   "source": [
    "let ( >>| ) opt f =\n",
    "\tmatch opt with\n",
    "\t\t| None -> None\n",
    "\t\t| Some x -> Some (f x)"
   ]
  },
  {
   "cell_type": "markdown",
   "metadata": {},
   "source": [
    "This is under the standard library as `Option.map`."
   ]
  },
  {
   "cell_type": "code",
   "execution_count": 5,
   "metadata": {},
   "outputs": [
    {
     "data": {
      "text/plain": [
       "- : int list option = Some [43]\n"
      ]
     },
     "execution_count": 5,
     "metadata": {},
     "output_type": "execute_result"
    }
   ],
   "source": [
    "ListQueue.(empty |> enqueue 42 |> dequeue >>| enqueue 43)"
   ]
  },
  {
   "cell_type": "markdown",
   "metadata": {},
   "source": [
    "What if we wanted to dequeue after that?"
   ]
  },
  {
   "cell_type": "code",
   "execution_count": 6,
   "metadata": {},
   "outputs": [
    {
     "ename": "error",
     "evalue": "compile_error",
     "output_type": "error",
     "traceback": [
      "File \"[6]\", line 1, characters 60-67:\n1 | ListQueue.(empty |> enqueue 42 |> dequeue >>| enqueue 43 |> dequeue)\n                                                                ^^^^^^^\nError: This expression has type 'a list -> 'a list option\n       but an expression was expected of type int list option -> 'b\n       Type 'a list is not compatible with type int list option \n"
     ]
    }
   ],
   "source": [
    "ListQueue.(empty |> enqueue 42 |> dequeue >>| enqueue 43 |> dequeue)"
   ]
  },
  {
   "cell_type": "code",
   "execution_count": 7,
   "metadata": {},
   "outputs": [
    {
     "data": {
      "text/plain": [
       "- : int list option option = Some (Some [])\n"
      ]
     },
     "execution_count": 7,
     "metadata": {},
     "output_type": "execute_result"
    }
   ],
   "source": [
    "ListQueue.(empty |> enqueue 42 |> dequeue >>| enqueue 43 >>| dequeue)"
   ]
  },
  {
   "cell_type": "markdown",
   "metadata": {},
   "source": [
    "Well now we have a double option. That's not right, let's write a new pipeline operator to fix it."
   ]
  },
  {
   "cell_type": "code",
   "execution_count": 8,
   "metadata": {},
   "outputs": [
    {
     "data": {
      "text/plain": [
       "val ( >>= ) : 'a option -> ('a -> 'b option) -> 'b option = <fun>\n"
      ]
     },
     "execution_count": 8,
     "metadata": {},
     "output_type": "execute_result"
    }
   ],
   "source": [
    "(* Option.bind *)\n",
    "let ( >>= ) opt f =\n",
    "\tmatch opt with\n",
    "\t| None -> None\n",
    "\t| Some x -> f x"
   ]
  },
  {
   "cell_type": "code",
   "execution_count": 9,
   "metadata": {},
   "outputs": [
    {
     "data": {
      "text/plain": [
       "- : int list option = Some []\n"
      ]
     },
     "execution_count": 9,
     "metadata": {},
     "output_type": "execute_result"
    }
   ],
   "source": [
    "ListQueue.(empty |> enqueue 42 |> dequeue >>| enqueue 43 >>= dequeue)"
   ]
  }
 ],
 "metadata": {
  "kernelspec": {
   "display_name": "OCaml cs3110-2021sp",
   "language": "OCaml",
   "name": "ocaml-jupyter"
  },
  "language_info": {
   "codemirror_mode": "text/x-ocaml",
   "file_extension": ".ml",
   "mimetype": "text/x-ocaml",
   "name": "OCaml",
   "nbconverter_exporter": null,
   "pygments_lexer": "OCaml",
   "version": "4.11.1"
  }
 },
 "nbformat": 4,
 "nbformat_minor": 4
}
