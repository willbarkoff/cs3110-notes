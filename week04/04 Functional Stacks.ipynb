{
 "cells": [
  {
   "cell_type": "markdown",
   "metadata": {},
   "source": [
    "# **04** Functional Stacks\n",
    "\n",
    "The stack data structure is like a stack of cafeteria trays. Items get pushed onto the top, and off."
   ]
  },
  {
   "cell_type": "code",
   "execution_count": 2,
   "metadata": {},
   "outputs": [
    {
     "data": {
      "text/plain": [
       "module MyStack :\n",
       "  sig\n",
       "    type 'a stack = Empty | Entry of 'a * 'a stack\n",
       "    val empty : 'a stack\n",
       "    val push : 'a -> 'a stack -> 'a stack\n",
       "    val peek : 'a stack -> 'a\n",
       "    val pop : 'a stack -> 'a stack\n",
       "  end\n"
      ]
     },
     "execution_count": 2,
     "metadata": {},
     "output_type": "execute_result"
    }
   ],
   "source": [
    "module MyStack = struct\n",
    "\ttype 'a stack =\n",
    "\t\t| Empty\n",
    "\t\t| Entry of 'a * 'a stack\n",
    "\n",
    "\tlet empty = Empty\n",
    "\t\n",
    "\tlet push x s = Entry (x, s)\n",
    "\t\n",
    "\tlet peek = function\n",
    "\t\t| Empty -> failwith \"Empty\"\n",
    "\t\t| Entry (x, _) -> x\n",
    "\t\t\n",
    "\tlet pop = function\n",
    "\t\t| Empty -> failwith \"Empty\"\n",
    "\t\t| Entry (_, x) -> x\n",
    "end"
   ]
  },
  {
   "cell_type": "markdown",
   "metadata": {},
   "source": [
    "Let's talk about this\n",
    "\n",
    "- `empty` is a variable representing the empty stack.\n",
    "- To push an item on the stack, we add the stack to the bottom of an `Entry`\n",
    "- `peek` gives us a value, while `pop` returns an item.\n",
    "\n",
    "This is essentially the same as a list."
   ]
  },
  {
   "cell_type": "code",
   "execution_count": 3,
   "metadata": {},
   "outputs": [
    {
     "data": {
      "text/plain": [
       "module ListStack :\n",
       "  sig\n",
       "    type 'a stack = 'a list\n",
       "    val empty : 'a list\n",
       "    val push : 'a -> 'a list -> 'a list\n",
       "    val peek : 'a list -> 'a\n",
       "    val pop : 'a list -> 'a list\n",
       "  end\n"
      ]
     },
     "execution_count": 3,
     "metadata": {},
     "output_type": "execute_result"
    }
   ],
   "source": [
    "module ListStack = struct\n",
    "\ttype 'a stack = 'a list\n",
    "\t\n",
    "\tlet empty = []\n",
    "\t\n",
    "\tlet push x s = x :: s\n",
    "\t\n",
    "\tlet peek = function\n",
    "\t\t| [] -> failwith \"Empty\"\n",
    "\t\t| x :: _ -> x\n",
    "\t\n",
    "\tlet pop = function\n",
    "\t\t| [] -> failwith \"Empty\"\n",
    "\t\t| _ :: s -> s\n",
    "\t\n",
    "end"
   ]
  },
  {
   "cell_type": "markdown",
   "metadata": {},
   "source": [
    "Now we have the same thing, but implemented with lists!"
   ]
  },
  {
   "cell_type": "code",
   "execution_count": 4,
   "metadata": {},
   "outputs": [
    {
     "data": {
      "text/plain": [
       "val s : 'a list = []\n"
      ]
     },
     "execution_count": 4,
     "metadata": {},
     "output_type": "execute_result"
    }
   ],
   "source": [
    "let s = ListStack.empty"
   ]
  },
  {
   "cell_type": "code",
   "execution_count": 5,
   "metadata": {},
   "outputs": [
    {
     "data": {
      "text/plain": [
       "val s' : int list = [1]\n"
      ]
     },
     "execution_count": 5,
     "metadata": {},
     "output_type": "execute_result"
    }
   ],
   "source": [
    "let s' = ListStack.push 1 s"
   ]
  },
  {
   "cell_type": "code",
   "execution_count": 7,
   "metadata": {},
   "outputs": [
    {
     "data": {
      "text/plain": [
       "- : int = 1\n"
      ]
     },
     "execution_count": 7,
     "metadata": {},
     "output_type": "execute_result"
    }
   ],
   "source": [
    "ListStack.peek s'"
   ]
  },
  {
   "cell_type": "code",
   "execution_count": 8,
   "metadata": {},
   "outputs": [
    {
     "data": {
      "text/plain": [
       "- : int list = [1]\n"
      ]
     },
     "execution_count": 8,
     "metadata": {},
     "output_type": "execute_result"
    }
   ],
   "source": [
    "s'"
   ]
  },
  {
   "cell_type": "code",
   "execution_count": 10,
   "metadata": {},
   "outputs": [
    {
     "data": {
      "text/plain": [
       "- : int list = []\n"
      ]
     },
     "execution_count": 10,
     "metadata": {},
     "output_type": "execute_result"
    }
   ],
   "source": [
    "ListStack.pop s'"
   ]
  },
  {
   "cell_type": "markdown",
   "metadata": {},
   "source": [
    "Let's compare Java and OCaml:\n",
    "```java\n",
    "Stack s = new Stack();\n",
    "s.push(1);\n",
    "```\n",
    "\n",
    "```ocaml\n",
    "let s = MyStack.empty;;\n",
    "let s' = MyStack.push 1 s;;\n",
    "```\n",
    "\n",
    "Note here that when we create the stack, we don't use the `new` keyword. Also, we don't write `s.push`, we put `s` as a parameter. What's interesting, is the Java Compiler will actually change `s.push(1)` to `push(1, s)`, or something similar, so under the hood, it's not that different."
   ]
  }
 ],
 "metadata": {
  "kernelspec": {
   "display_name": "OCaml cs3110-2021sp",
   "language": "OCaml",
   "name": "ocaml-jupyter"
  },
  "language_info": {
   "codemirror_mode": "text/x-ocaml",
   "file_extension": ".ml",
   "mimetype": "text/x-ocaml",
   "name": "OCaml",
   "nbconverter_exporter": null,
   "pygments_lexer": "OCaml",
   "version": "4.11.1"
  }
 },
 "nbformat": 4,
 "nbformat_minor": 4
}
