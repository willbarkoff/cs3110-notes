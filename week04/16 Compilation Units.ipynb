{
 "cells": [
  {
   "cell_type": "markdown",
   "metadata": {},
   "source": [
    "# **16** Compilation Units\n",
    "\n",
    "So far, we've been using `.ml` files for signatures; however, there's another way. You can extract signatures to `.mli` files.\n",
    "\n",
    "The `.mli` file is the _interface file_, that holds the signature, and the `.ml` file is the _implementation file_, that holds the implementation.\n",
    "\n",
    "Traditionally, comments for the end-user go in the `.mli` file, and comments for maintainers go into the `.ml` file. This is known as a _compilation unit_.\n",
    "\n",
    "A compilation unit is the combination of a `.ml` and `.mli` file with the same base name.\n",
    "\n",
    "If `myfile.ml` has contents `DM`, and `myfile.mli` has contents `DS`, then the OCaml compiler thinks of the compilation unit as:\n",
    "\n",
    "```ocaml\n",
    "module Myfile [: sig DS end] = struct\n",
    "    DM\n",
    "end\n",
    "```\n",
    "\n",
    "Note that this is an _anonymous signature_, there's no name for it!\n",
    "\n",
    "We'll start using compilation units later.\n",
    "\n",
    "By the way, if you ever want to look at the source for something in the standard library, you can browse the source on [GitHub](https://github.com/ocaml/ocaml), specifically in the [`stdlib`](https://github.com/ocaml/ocaml/tree/trunk/stdlib) directory. Note that each has an `.mli` file and an `.ml` file, for example, [`list.ml`](https://github.com/ocaml/ocaml/blob/trunk/stdlib/list.ml) and [`list.mli`](https://github.com/ocaml/ocaml/blob/trunk/stdlib/list.mli)."
   ]
  }
 ],
 "metadata": {
  "kernelspec": {
   "display_name": "OCaml cs3110-2021sp",
   "language": "OCaml",
   "name": "ocaml-jupyter"
  },
  "language_info": {
   "codemirror_mode": "text/x-ocaml",
   "file_extension": ".ml",
   "mimetype": "text/x-ocaml",
   "name": "OCaml",
   "nbconverter_exporter": null,
   "pygments_lexer": "OCaml",
   "version": "4.11.1"
  }
 },
 "nbformat": 4,
 "nbformat_minor": 4
}
