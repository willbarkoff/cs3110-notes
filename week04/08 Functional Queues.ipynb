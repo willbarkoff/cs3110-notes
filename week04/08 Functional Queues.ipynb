{
 "cells": [
  {
   "cell_type": "markdown",
   "metadata": {},
   "source": [
    "# **08** Functional Queues\n",
    "\n",
    "Let's implement functional queues as lists!"
   ]
  },
  {
   "cell_type": "code",
   "execution_count": 1,
   "metadata": {},
   "outputs": [
    {
     "data": {
      "text/plain": [
       "module ListQueue :\n",
       "  sig\n",
       "    type 'a queue = 'a list\n",
       "    val empty : 'a list\n",
       "    val enqueue : 'a -> 'a list -> 'a list\n",
       "    val dequeue : 'a list -> 'a list option\n",
       "    val peek : 'a list -> 'a option\n",
       "  end\n"
      ]
     },
     "execution_count": 1,
     "metadata": {},
     "output_type": "execute_result"
    }
   ],
   "source": [
    "module ListQueue = struct\n",
    "\ttype 'a queue = 'a list\n",
    "\t\n",
    "\tlet empty = []\n",
    "\t\n",
    "\t(* use the append operator to put it at the end of the list *)\n",
    "\t(* linear time :'( *)\n",
    "\tlet enqueue x q = q @ [x]\n",
    "\t\n",
    "\tlet dequeue = function\n",
    "\t\t| [] -> None\n",
    "\t\t| _ :: t -> Some t\n",
    "\t\n",
    "\tlet peek = function\n",
    "\t\t| [] -> None\n",
    "\t\t| h :: _ -> Some h\n",
    "end"
   ]
  },
  {
   "cell_type": "markdown",
   "metadata": {},
   "source": [
    "Let's fix this! We can use a \"Two List Queue,\" invented by Prof. Gries's Ph.D. student in 1981 (Robert Melville)"
   ]
  },
  {
   "cell_type": "code",
   "execution_count": 2,
   "metadata": {},
   "outputs": [
    {
     "data": {
      "text/plain": [
       "module TwoListQueue :\n",
       "  sig\n",
       "    type 'a queue = { front : 'a list; back : 'a list; }\n",
       "    val empty : 'a queue\n",
       "    val peek : 'a queue -> 'a option\n",
       "    val enqueue : 'a -> 'a queue -> 'a queue\n",
       "    val dequeue : 'a queue -> 'a queue option\n",
       "  end\n"
      ]
     },
     "execution_count": 2,
     "metadata": {},
     "output_type": "execute_result"
    }
   ],
   "source": [
    "module TwoListQueue = struct\n",
    "\t\n",
    "\t(*\n",
    "\t\t[{front = [a; b;]; back = [e; d; c;]}] represents the queue [a; b; c; d; e]\n",
    "\t\tIf [front] is empty, then back is empty too.\n",
    "\t*)\n",
    "\ttype 'a queue = {\n",
    "\t\tfront : 'a list;\n",
    "\t\tback : 'a list;\n",
    "\t}\n",
    "\t\n",
    "\tlet empty = {front = []; back = [];}\n",
    "\t\n",
    "\t(* Precondition: If the front is empty, the back is also empty *)\n",
    "\tlet peek = function\n",
    "\t\t| {front = []} -> None\n",
    "\t\t| {front = x :: _} -> Some x\n",
    "\t\n",
    "\tlet enqueue x = function\n",
    "\t\t| {front = []} -> {front = [x]; back = []}\n",
    "\t\t| q -> {q with back = x :: q.back}\n",
    "\t\n",
    "\t\n",
    "\t(* This dequeue operation is constant time, unless the front becomes empty. *)\n",
    "\tlet dequeue = function\n",
    "\t\t| {front = []} -> None\n",
    "\t\t| {front = h :: []; back} -> Some {front = (List.rev back); back = []}\n",
    "\t\t| {front = _ :: t; back} -> Some {front = t ; back}\n",
    "end"
   ]
  }
 ],
 "metadata": {
  "kernelspec": {
   "display_name": "OCaml cs3110-2021sp",
   "language": "OCaml",
   "name": "ocaml-jupyter"
  },
  "language_info": {
   "codemirror_mode": "text/x-ocaml",
   "file_extension": ".ml",
   "mimetype": "text/x-ocaml",
   "name": "OCaml",
   "nbconverter_exporter": null,
   "pygments_lexer": "OCaml",
   "version": "4.11.1"
  }
 },
 "nbformat": 4,
 "nbformat_minor": 4
}
