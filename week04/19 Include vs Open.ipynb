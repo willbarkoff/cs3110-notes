{
 "cells": [
  {
   "cell_type": "markdown",
   "metadata": {},
   "source": [
    "# **19** Include vs. Open\n",
    "\n",
    "Include and open seem very similar at first, and they do have similarities, but also many differences. Here's a simple example. Let's define a module `M`:"
   ]
  },
  {
   "cell_type": "code",
   "execution_count": 1,
   "metadata": {},
   "outputs": [
    {
     "data": {
      "text/plain": [
       "module M : sig val x : int end\n"
      ]
     },
     "execution_count": 1,
     "metadata": {},
     "output_type": "execute_result"
    }
   ],
   "source": [
    "module M = struct\n",
    "\tlet x = 0\n",
    "end"
   ]
  },
  {
   "cell_type": "markdown",
   "metadata": {},
   "source": [
    "Okay, now let's implement `N` and `M`, including and opening `M` respectfully:"
   ]
  },
  {
   "cell_type": "code",
   "execution_count": 2,
   "metadata": {},
   "outputs": [
    {
     "data": {
      "text/plain": [
       "module N : sig val x : int val y : int end\n"
      ]
     },
     "execution_count": 2,
     "metadata": {},
     "output_type": "execute_result"
    },
    {
     "data": {
      "text/plain": [
       "module O : sig val y : int end\n"
      ]
     },
     "execution_count": 2,
     "metadata": {},
     "output_type": "execute_result"
    }
   ],
   "source": [
    "module N = struct\n",
    "\tinclude M\n",
    "\tlet y = x + 1\n",
    "end\n",
    "\n",
    "module O = struct\n",
    "\topen M\n",
    "\tlet y = x + 1\n",
    "end"
   ]
  },
  {
   "cell_type": "markdown",
   "metadata": {},
   "source": [
    "Note that these modules have different signatures! Module `N` has two values, `x` and `y`, while module `O` has one value, just `y`.\n",
    "\n",
    "Include is including all the definitions from module `N` in `M`; however, we `open` rather than `include`. We open them for use internally, but we don't export them.\n",
    "\n",
    "- `open M`\n",
    "    - imports definitions from `M`\n",
    "    - makes them available for local consumption\n",
    "    - **doesn't export them to the outside world**\n",
    "- `include M`\n",
    "    - imports definitions from `M`\n",
    "    - makes them available for local consumption\n",
    "    - **does export them to the outside world**"
   ]
  }
 ],
 "metadata": {
  "kernelspec": {
   "display_name": "OCaml cs3110-2021sp",
   "language": "OCaml",
   "name": "ocaml-jupyter"
  },
  "language_info": {
   "codemirror_mode": "text/x-ocaml",
   "file_extension": ".ml",
   "mimetype": "text/x-ocaml",
   "name": "OCaml",
   "nbconverter_exporter": null,
   "pygments_lexer": "OCaml",
   "version": "4.11.1"
  }
 },
 "nbformat": 4,
 "nbformat_minor": 4
}
