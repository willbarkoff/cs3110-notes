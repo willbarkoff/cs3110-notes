{
 "cells": [
  {
   "cell_type": "markdown",
   "metadata": {},
   "source": [
    "# **14** Abstract Types\n",
    "\n",
    "Recall that when a signature doesn't specify a value, the value cannot be used outside a sealed module of that type. This applies to types as well. Let's use our example of ListStack from before."
   ]
  },
  {
   "cell_type": "code",
   "execution_count": 1,
   "metadata": {},
   "outputs": [
    {
     "data": {
      "text/plain": [
       "module type StackSig =\n",
       "  sig\n",
       "    type 'a stack\n",
       "    val empty : 'a stack\n",
       "    val push : 'a -> 'a stack -> 'a stack\n",
       "    val peek : 'a stack -> 'a\n",
       "    val pop : 'a stack -> 'a stack\n",
       "  end\n"
      ]
     },
     "execution_count": 1,
     "metadata": {},
     "output_type": "execute_result"
    },
    {
     "data": {
      "text/plain": [
       "module ListStack : StackSig\n"
      ]
     },
     "execution_count": 1,
     "metadata": {},
     "output_type": "execute_result"
    }
   ],
   "source": [
    "module type StackSig = sig\n",
    "\ttype 'a stack\n",
    "\tval empty : 'a stack\n",
    "\tval push : 'a -> 'a stack -> 'a stack\n",
    "\tval peek : 'a stack -> 'a\n",
    "\tval pop : 'a stack -> 'a stack\n",
    "end\n",
    "\n",
    "module ListStack : StackSig = struct\n",
    "\ttype 'a stack = 'a list\n",
    "\t\n",
    "\tlet empty = []\n",
    "\t\n",
    "\tlet push x s = x :: s\n",
    "\t\n",
    "\tlet peek = function\n",
    "\t\t| [] -> failwith \"Empty\"\n",
    "\t\t| x :: _ -> x\n",
    "\t\n",
    "\tlet pop = function\n",
    "\t\t| [] -> failwith \"Empty\"\n",
    "\t\t| _ :: s -> s\n",
    "\t\n",
    "end"
   ]
  },
  {
   "cell_type": "markdown",
   "metadata": {},
   "source": [
    "We can see that `ListStack.stack` has a type of `'a list`; however, if the module is sealed, we can't use list values with it:"
   ]
  },
  {
   "cell_type": "code",
   "execution_count": 2,
   "metadata": {},
   "outputs": [
    {
     "data": {
      "text/plain": [
       "val s1 : int ListStack.stack = <abstr>\n"
      ]
     },
     "execution_count": 2,
     "metadata": {},
     "output_type": "execute_result"
    }
   ],
   "source": [
    "let s1 : int ListStack.stack = ListStack.(empty |> push 42)"
   ]
  },
  {
   "cell_type": "code",
   "execution_count": 3,
   "metadata": {},
   "outputs": [
    {
     "ename": "error",
     "evalue": "compile_error",
     "output_type": "error",
     "traceback": [
      "File \"[3]\", line 1, characters 31-35:\n1 | let s2 : int ListStack.stack = [42]\n                                   ^^^^\nError: This expression has type 'a list\n       but an expression was expected of type int ListStack.stack\n"
     ]
    }
   ],
   "source": [
    "let s2 : int ListStack.stack = [42]"
   ]
  },
  {
   "cell_type": "markdown",
   "metadata": {},
   "source": [
    "Note how the second declaration failed. This is because `type ListStack.stack` isn't necessarily a list. We don't get to know or use the type of it. These two pieces of code would create the same structure, but the fact that the stack is a list is hidden behind the signature.\n",
    "\n",
    "This is a good thing, because it lets us use the same signature for different implementations. You can think of a sealed class as a \"private version,\" and an unsealed class a \"public version\".\n",
    "\n",
    "Leaving the implementation off of a type is known a an _abstract type_. Abstract types give us encapsulation. Clients don't need to know how it works. Clients tend to exploit this, for example, say you want to upgrade to a two-list queue, you'd have broken code. This means that encapsulation is a good thing!\n",
    "\n",
    "A common idiom for abstract types is to name the type `t`, for example:"
   ]
  },
  {
   "cell_type": "code",
   "execution_count": 4,
   "metadata": {},
   "outputs": [
    {
     "data": {
      "text/plain": [
       "module type Example = sig type 'a t val a_function : 'a t -> 'a t end\n"
      ]
     },
     "execution_count": 4,
     "metadata": {},
     "output_type": "execute_result"
    }
   ],
   "source": [
    "module type Example = sig\n",
    "\ttype 'a t\n",
    "\tval a_function: 'a t -> 'a t\n",
    "end"
   ]
  },
  {
   "cell_type": "markdown",
   "metadata": {},
   "source": [
    "OCaml programmers tend to expect `t` to be the main implementation."
   ]
  }
 ],
 "metadata": {
  "kernelspec": {
   "display_name": "OCaml cs3110-2021sp",
   "language": "OCaml",
   "name": "ocaml-jupyter"
  },
  "language_info": {
   "codemirror_mode": "text/x-ocaml",
   "file_extension": ".ml",
   "mimetype": "text/x-ocaml",
   "name": "OCaml",
   "nbconverter_exporter": null,
   "pygments_lexer": "OCaml",
   "version": "4.11.1"
  }
 },
 "nbformat": 4,
 "nbformat_minor": 4
}
