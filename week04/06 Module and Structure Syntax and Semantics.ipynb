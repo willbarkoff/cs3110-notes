{
 "cells": [
  {
   "cell_type": "markdown",
   "metadata": {},
   "source": [
    "# **06** Module and Structure Syntax and Semantics"
   ]
  },
  {
   "cell_type": "markdown",
   "metadata": {},
   "source": [
    "Let's look at the syntax and semantics of modules.\n",
    "\n",
    "## Syntax\n",
    "\n",
    "```ocaml\n",
    "module ModuleName = struct\n",
    "    definitions\n",
    "end\n",
    "```\n",
    "\n",
    "Module definitions must be capitalized. Idiomatically, module names are written in `CamelCase`, rather than `snake_case`. Definitions can be anything we've seen:\n",
    "- `let`, `type`, `expressions`\n",
    "- `module`\n",
    "- Can be terminated by `;;`, but it isn't idiomatic to do so.\n",
    "\n",
    "## Semantics\n",
    "To evaluate a structure, just evaluate each definition in order from the top to the bottom. The result is a module value (or simply module).\n",
    "\n",
    "Module values are not like other values. They cannot be bound to a name with `let`, and they cannot be passed to functions or returned."
   ]
  }
 ],
 "metadata": {
  "kernelspec": {
   "display_name": "OCaml cs3110-2021sp",
   "language": "OCaml",
   "name": "ocaml-jupyter"
  },
  "language_info": {
   "codemirror_mode": "text/x-ocaml",
   "file_extension": ".ml",
   "mimetype": "text/x-ocaml",
   "name": "OCaml",
   "nbconverter_exporter": null,
   "pygments_lexer": "OCaml",
   "version": "4.11.1"
  }
 },
 "nbformat": 4,
 "nbformat_minor": 4
}
