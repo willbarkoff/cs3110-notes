{
 "cells": [
  {
   "cell_type": "markdown",
   "metadata": {},
   "source": [
    "# **02** Modular Programming"
   ]
  },
  {
   "cell_type": "markdown",
   "metadata": {},
   "source": [
    "Let's talk about scale!\n",
    "\n",
    "| Program                      | LoC        |\n",
    "|------------------------------|------------|\n",
    "| Prof. Clarkson's A1 Solution | 100        |\n",
    "| OCaml compiler               | 200 000    |\n",
    "| Unreal engine 4              | 2 000 000  |\n",
    "| Windows vista                | 50 000 000 |\n",
    "\n",
    "Big software has a lot of code. No individual programmer can see all the details. You need more language support to build giant programs.\n",
    "\n",
    "You need support for _modular programming_\n",
    "\n",
    "What is modular programming?\n",
    "- Develop separately\n",
    "- Understand in isolation\n",
    "- Reason locally, not globally"
   ]
  },
  {
   "cell_type": "markdown",
   "metadata": {},
   "source": [
    "Let's compare Java and OCaml's features for modularity:\n",
    "\n",
    "|               | Java                         | OCaml              |\n",
    "|---------------|------------------------------|--------------------|\n",
    "| Namespaces    | Classes, Packages            | Structures         |\n",
    "| Interfaces    | Interfaces                   | Signatures         |\n",
    "| Encapsulation | `public`, `private` keywords | Abstract types     |\n",
    "| Code reuse    | Subtyping, inheritance       | Functors, includes |"
   ]
  }
 ],
 "metadata": {
  "kernelspec": {
   "display_name": "OCaml cs3110-2021sp",
   "language": "OCaml",
   "name": "ocaml-jupyter"
  },
  "language_info": {
   "codemirror_mode": "text/x-ocaml",
   "file_extension": ".ml",
   "mimetype": "text/x-ocaml",
   "name": "OCaml",
   "nbconverter_exporter": null,
   "pygments_lexer": "OCaml",
   "version": "4.11.1"
  }
 },
 "nbformat": 4,
 "nbformat_minor": 4
}
