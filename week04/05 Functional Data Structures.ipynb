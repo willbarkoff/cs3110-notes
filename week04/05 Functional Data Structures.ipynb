{
 "cells": [
  {
   "cell_type": "markdown",
   "metadata": {},
   "source": [
    "# **05** Functional Data Structures\n",
    "\n",
    "A functional data structure is a data structure with no mutable values.\n",
    "\n",
    "We call them \"persistent\" rather than \"ephemeral.\"\n",
    "\n",
    "You might ask about efficiency..\n",
    "\n",
    "It's possible that they might be less efficient. The OCaml compiler is good at making sure that things stay memory efficient. In terms of time complexity, sometimes functional data structures do increase time complexity. Usually, as a rule of thumb, you can assume that functional data structures increase time complexity by a logarithmic amount. "
   ]
  }
 ],
 "metadata": {
  "kernelspec": {
   "display_name": "OCaml cs3110-2021sp",
   "language": "OCaml",
   "name": "ocaml-jupyter"
  },
  "language_info": {
   "codemirror_mode": "text/x-ocaml",
   "file_extension": ".ml",
   "mimetype": "text/x-ocaml",
   "name": "OCaml",
   "nbconverter_exporter": null,
   "pygments_lexer": "OCaml",
   "version": "4.11.1"
  }
 },
 "nbformat": 4,
 "nbformat_minor": 4
}
