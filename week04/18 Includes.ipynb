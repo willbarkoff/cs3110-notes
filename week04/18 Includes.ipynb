{
 "cells": [
  {
   "cell_type": "markdown",
   "metadata": {},
   "source": [
    "# **18** Includes"
   ]
  },
  {
   "cell_type": "markdown",
   "metadata": {},
   "source": [
    "Let's say we want to abstract out OCaml's arithmetic operators for `int`s and `float`s. [Abstract algebra](https://en.wikipedia.org/wiki/Abstract_algebra) (the mathematical concept) allows us to do this using structures called [Rings](https://en.wikipedia.org/wiki/Ring_(mathematics)) and [Fields](https://en.wikipedia.org/wiki/Field_(mathematics)). We can define structures for `Ring` and `Field`:\n",
    "\n",
    "`( ~- )` is unary negation (for example, to multiplying by `-1`)."
   ]
  },
  {
   "cell_type": "code",
   "execution_count": 1,
   "metadata": {},
   "outputs": [
    {
     "data": {
      "text/plain": [
       "module type Ring =\n",
       "  sig\n",
       "    type t\n",
       "    val zero : t\n",
       "    val one : t\n",
       "    val ( + ) : t -> t -> t\n",
       "    val ( * ) : t -> t -> t\n",
       "    val ( ~- ) : t -> t\n",
       "    val string : t -> string\n",
       "  end\n"
      ]
     },
     "execution_count": 1,
     "metadata": {},
     "output_type": "execute_result"
    },
    {
     "data": {
      "text/plain": [
       "module IntRingRep :\n",
       "  sig\n",
       "    type t = int\n",
       "    val zero : int\n",
       "    val one : int\n",
       "    val ( + ) : int -> int -> int\n",
       "    val ( - ) : int -> int -> int\n",
       "    val ( * ) : int -> int -> int\n",
       "    val ( ~- ) : int -> int\n",
       "    val string : int -> string\n",
       "  end\n"
      ]
     },
     "execution_count": 1,
     "metadata": {},
     "output_type": "execute_result"
    },
    {
     "data": {
      "text/plain": [
       "module IntRing : Ring\n"
      ]
     },
     "execution_count": 1,
     "metadata": {},
     "output_type": "execute_result"
    }
   ],
   "source": [
    "module type Ring = sig\n",
    "\ttype t\n",
    "\tval zero : t\n",
    "\tval one : t\n",
    "\tval ( + ) : t -> t -> t\n",
    "\tval ( * ) : t -> t -> t\n",
    "\tval ( ~- ) : t -> t\n",
    "\tval string : t -> string\n",
    "end\n",
    "\n",
    "module IntRingRep = struct\n",
    "\ttype t = int\n",
    "\tlet zero = 0\n",
    "\tlet one = 1\n",
    "\tlet ( + ) = Stdlib.( + )\n",
    "\tlet ( - ) = Stdlib.( - )\n",
    "\tlet ( * ) = Stdlib.( * )\n",
    "\tlet ( ~- ) = Stdlib.( ~- )\n",
    "\tlet string = string_of_int\n",
    "end\n",
    "\n",
    "module IntRing : Ring = IntRingRep"
   ]
  },
  {
   "cell_type": "markdown",
   "metadata": {},
   "source": [
    "Now let's see how this works:"
   ]
  },
  {
   "cell_type": "code",
   "execution_count": 2,
   "metadata": {},
   "outputs": [
    {
     "data": {
      "text/plain": [
       "- : IntRing.t = <abstr>\n"
      ]
     },
     "execution_count": 2,
     "metadata": {},
     "output_type": "execute_result"
    },
    {
     "data": {
      "text/plain": [
       "- : int = 0\n"
      ]
     },
     "execution_count": 2,
     "metadata": {},
     "output_type": "execute_result"
    },
    {
     "data": {
      "text/plain": [
       "- : string = \"0\"\n"
      ]
     },
     "execution_count": 2,
     "metadata": {},
     "output_type": "execute_result"
    }
   ],
   "source": [
    "IntRing.zero;; (* we can see it's 0 *)\n",
    "IntRingRep.zero;; (* abstract *)\n",
    "IntRingRep.(zero |> string);; (* string representation *)"
   ]
  },
  {
   "cell_type": "markdown",
   "metadata": {},
   "source": [
    "Let's do some math!"
   ]
  },
  {
   "cell_type": "code",
   "execution_count": 3,
   "metadata": {},
   "outputs": [
    {
     "data": {
      "text/plain": [
       "- : string = \"0\"\n"
      ]
     },
     "execution_count": 3,
     "metadata": {},
     "output_type": "execute_result"
    },
    {
     "data": {
      "text/plain": [
       "- : string = \"1\"\n"
      ]
     },
     "execution_count": 3,
     "metadata": {},
     "output_type": "execute_result"
    },
    {
     "data": {
      "text/plain": [
       "- : string = \"2\"\n"
      ]
     },
     "execution_count": 3,
     "metadata": {},
     "output_type": "execute_result"
    }
   ],
   "source": [
    "IntRing.(string @@ zero + zero);; (* -> 0 *)\n",
    "IntRing.(string @@ zero + one);; (* -> 1 *)\n",
    "IntRing.(string @@ zero + one + one);; (* -> 2 *)"
   ]
  },
  {
   "cell_type": "markdown",
   "metadata": {},
   "source": [
    "Now we can implement a ring for floating point numbers:"
   ]
  },
  {
   "cell_type": "code",
   "execution_count": 4,
   "metadata": {},
   "outputs": [
    {
     "data": {
      "text/plain": [
       "module FloatRingRep :\n",
       "  sig\n",
       "    type t = float\n",
       "    val zero : float\n",
       "    val one : float\n",
       "    val ( + ) : float -> float -> float\n",
       "    val ( - ) : float -> float -> float\n",
       "    val ( * ) : float -> float -> float\n",
       "    val ( ~- ) : float -> float\n",
       "    val string : float -> string\n",
       "  end\n"
      ]
     },
     "execution_count": 4,
     "metadata": {},
     "output_type": "execute_result"
    },
    {
     "data": {
      "text/plain": [
       "module FloatRing : Ring\n"
      ]
     },
     "execution_count": 4,
     "metadata": {},
     "output_type": "execute_result"
    }
   ],
   "source": [
    "module FloatRingRep = struct\n",
    "\ttype t = float\n",
    "\tlet zero = 0.\n",
    "\tlet one = 1.\n",
    "\tlet ( + ) = Stdlib.( +. )\n",
    "\tlet ( - ) = Stdlib.( -. )\n",
    "\tlet ( * ) = Stdlib.( *. )\n",
    "\tlet ( ~- ) = Stdlib.( ~-. )\n",
    "\tlet string = string_of_float\n",
    "end\n",
    "\n",
    "module FloatRing : Ring = FloatRingRep"
   ]
  },
  {
   "cell_type": "code",
   "execution_count": 5,
   "metadata": {},
   "outputs": [
    {
     "data": {
      "text/plain": [
       "- : string = \"0.\"\n"
      ]
     },
     "execution_count": 5,
     "metadata": {},
     "output_type": "execute_result"
    },
    {
     "data": {
      "text/plain": [
       "- : string = \"1.\"\n"
      ]
     },
     "execution_count": 5,
     "metadata": {},
     "output_type": "execute_result"
    },
    {
     "data": {
      "text/plain": [
       "- : string = \"2.\"\n"
      ]
     },
     "execution_count": 5,
     "metadata": {},
     "output_type": "execute_result"
    }
   ],
   "source": [
    "FloatRing.(string @@ zero + zero);; (* -> 0 *)\n",
    "FloatRing.(string @@ zero + one);; (* -> 1 *)\n",
    "FloatRing.(string @@ zero + one + one);; (* -> 2 *)"
   ]
  },
  {
   "cell_type": "markdown",
   "metadata": {},
   "source": [
    "See, we have `0.` and so on, so we know it's a float!\n",
    "\n",
    "What if we wanted to provide division? Well, division is actually part of a field, not a ring. What if we wanted to implement a field?\n",
    "\n",
    "~We could copy code~ no wait don't! That's never a good idea. We can use an `include` to include all the contents of another signature or structure in the current one:"
   ]
  },
  {
   "cell_type": "code",
   "execution_count": 6,
   "metadata": {},
   "outputs": [
    {
     "data": {
      "text/plain": [
       "module type Field =\n",
       "  sig\n",
       "    type t\n",
       "    val zero : t\n",
       "    val one : t\n",
       "    val ( + ) : t -> t -> t\n",
       "    val ( * ) : t -> t -> t\n",
       "    val ( ~- ) : t -> t\n",
       "    val string : t -> string\n",
       "    val ( / ) : t -> t -> t\n",
       "  end\n"
      ]
     },
     "execution_count": 6,
     "metadata": {},
     "output_type": "execute_result"
    },
    {
     "data": {
      "text/plain": [
       "module IntFieldRep :\n",
       "  sig\n",
       "    type t = int\n",
       "    val zero : int\n",
       "    val one : int\n",
       "    val ( + ) : int -> int -> int\n",
       "    val ( - ) : int -> int -> int\n",
       "    val ( * ) : int -> int -> int\n",
       "    val ( ~- ) : int -> int\n",
       "    val string : int -> string\n",
       "    val ( / ) : int -> int -> int\n",
       "  end\n"
      ]
     },
     "execution_count": 6,
     "metadata": {},
     "output_type": "execute_result"
    },
    {
     "data": {
      "text/plain": [
       "module IntField : Field\n"
      ]
     },
     "execution_count": 6,
     "metadata": {},
     "output_type": "execute_result"
    }
   ],
   "source": [
    "module type Field = sig\n",
    "\tinclude Ring\n",
    "\tval ( / ) : t -> t -> t\n",
    "end\n",
    "\n",
    "module IntFieldRep = struct\n",
    "\tinclude IntRingRep\n",
    "\tlet ( / ) = Stdlib.( / )\n",
    "end\n",
    "\n",
    "module IntField : Field = IntFieldRep;;"
   ]
  },
  {
   "cell_type": "markdown",
   "metadata": {},
   "source": [
    "Now, if someone ever changes the implantation of rings, our changes would be duplicated. Let's do the same for our floating point numbers:"
   ]
  },
  {
   "cell_type": "code",
   "execution_count": 7,
   "metadata": {},
   "outputs": [
    {
     "data": {
      "text/plain": [
       "module FloatFieldRep :\n",
       "  sig\n",
       "    type t = FloatRing.t\n",
       "    val zero : t\n",
       "    val one : t\n",
       "    val ( + ) : t -> t -> t\n",
       "    val ( * ) : t -> t -> t\n",
       "    val ( ~- ) : t -> t\n",
       "    val string : t -> string\n",
       "    val ( / ) : float -> float -> float\n",
       "  end\n"
      ]
     },
     "execution_count": 7,
     "metadata": {},
     "output_type": "execute_result"
    },
    {
     "ename": "error",
     "evalue": "compile_error",
     "output_type": "error",
     "traceback": [
      "File \"[7]\", line 6, characters 28-41:\n6 | module FloatField : Field = FloatFieldRep;;\n                                ^^^^^^^^^^^^^\nError: Signature mismatch:\n       ...\n       Values do not match:\n         val ( / ) : float -> float -> float\n       is not included in\n         val ( / ) : t -> t -> t\n       File \"[6]\", line 3, characters 1-24: Expected declaration\n       File \"[7]\", line 3, characters 5-10: Actual declaration\n"
     ]
    }
   ],
   "source": [
    "module FloatFieldRep = struct\n",
    "\tinclude FloatRing\n",
    "\tlet ( / ) = Stdlib.( /. )\n",
    "end\n",
    "\n",
    "module FloatField : Field = FloatFieldRep;;"
   ]
  },
  {
   "cell_type": "markdown",
   "metadata": {},
   "source": [
    "Uh oh... what happened there? Well, we need to use `FloatFieldRep` instead of `FloatField` so that our types are correct:"
   ]
  },
  {
   "cell_type": "code",
   "execution_count": 8,
   "metadata": {},
   "outputs": [
    {
     "data": {
      "text/plain": [
       "module FloatFieldRep :\n",
       "  sig\n",
       "    type t = float\n",
       "    val zero : float\n",
       "    val one : float\n",
       "    val ( + ) : float -> float -> float\n",
       "    val ( - ) : float -> float -> float\n",
       "    val ( * ) : float -> float -> float\n",
       "    val ( ~- ) : float -> float\n",
       "    val string : float -> string\n",
       "    val ( / ) : float -> float -> float\n",
       "  end\n"
      ]
     },
     "execution_count": 8,
     "metadata": {},
     "output_type": "execute_result"
    },
    {
     "data": {
      "text/plain": [
       "module FloatField : Field\n"
      ]
     },
     "execution_count": 8,
     "metadata": {},
     "output_type": "execute_result"
    }
   ],
   "source": [
    "module FloatFieldRep = struct\n",
    "\tinclude FloatRingRep\n",
    "\tlet ( / ) = Stdlib.( /. )\n",
    "end\n",
    "\n",
    "module FloatField : Field = FloatFieldRep;;"
   ]
  }
 ],
 "metadata": {
  "kernelspec": {
   "display_name": "OCaml cs3110-2021sp",
   "language": "OCaml",
   "name": "ocaml-jupyter"
  },
  "language_info": {
   "codemirror_mode": "text/x-ocaml",
   "file_extension": ".ml",
   "mimetype": "text/x-ocaml",
   "name": "OCaml",
   "nbconverter_exporter": null,
   "pygments_lexer": "OCaml",
   "version": "4.11.1"
  }
 },
 "nbformat": 4,
 "nbformat_minor": 4
}
