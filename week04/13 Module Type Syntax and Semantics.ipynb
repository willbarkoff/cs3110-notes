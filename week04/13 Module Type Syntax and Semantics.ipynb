{
 "cells": [
  {
   "cell_type": "markdown",
   "metadata": {},
   "source": [
    "# **13** Module Type Syntax and Semantics\n",
    "\n",
    "## Syntax\n",
    "```ocaml\n",
    "module type ModuleTypeName = sig\n",
    "    specifications...\n",
    "end\n",
    "```\n",
    "\n",
    "- Name doesn't need to be capitalized, but usually is.\n",
    "- Specifications include anything...\n",
    "\n",
    "## Semantics\n",
    "If you give a module a type:\n",
    "```ocaml\n",
    "module Mod : Sig = struct ... end\n",
    "```\n",
    "The type checker ensures\n",
    "1. **Signature matching:** everything specified in `Sig` must be defined in `Mod` with correct types\n",
    "2. **Encapsulation:** only what is specified in `Sig` can be accessed outside `Mod`. The module is _sealed_.\n",
    "\n",
    "### Signature matching\n",
    "- Every name specified in `Sig` must be defined in `Mod`\n",
    "- The types in `Mod` must be the same as in `Sig`, or more general, for example:"
   ]
  },
  {
   "cell_type": "code",
   "execution_count": 1,
   "metadata": {},
   "outputs": [
    {
     "data": {
      "text/plain": [
       "module type IntFun = sig val f : int -> int end\n"
      ]
     },
     "execution_count": 1,
     "metadata": {},
     "output_type": "execute_result"
    }
   ],
   "source": [
    "module type IntFun = sig\n",
    "\tval f : int -> int\n",
    "end"
   ]
  },
  {
   "cell_type": "markdown",
   "metadata": {},
   "source": [
    "We can implement this module with a function of type `int -> int`."
   ]
  },
  {
   "cell_type": "code",
   "execution_count": 2,
   "metadata": {},
   "outputs": [
    {
     "data": {
      "text/plain": [
       "module SuccFun : IntFun\n"
      ]
     },
     "execution_count": 2,
     "metadata": {},
     "output_type": "execute_result"
    }
   ],
   "source": [
    "module SuccFun : IntFun = struct\n",
    "\tlet f x = x + 1\n",
    "end"
   ]
  },
  {
   "cell_type": "markdown",
   "metadata": {},
   "source": [
    "We can also implement this module with a more general type:"
   ]
  },
  {
   "cell_type": "code",
   "execution_count": 3,
   "metadata": {},
   "outputs": [
    {
     "data": {
      "text/plain": [
       "module IdFun : IntFun\n"
      ]
     },
     "execution_count": 3,
     "metadata": {},
     "output_type": "execute_result"
    }
   ],
   "source": [
    "module IdFun : IntFun = struct\n",
    "\tlet f x = x\n",
    "end"
   ]
  },
  {
   "cell_type": "markdown",
   "metadata": {},
   "source": [
    "Here, the function `f` has type `'a -> 'a`. You will never get a type error for a more general type."
   ]
  },
  {
   "cell_type": "code",
   "execution_count": 4,
   "metadata": {},
   "outputs": [
    {
     "ename": "error",
     "evalue": "compile_error",
     "output_type": "error",
     "traceback": [
      "File \"[4]\", line 1, characters 8-15:\n1 | IdFun.f \"hello\"\n            ^^^^^^^\nError: This expression has type string but an expression was expected of type\n         int\n"
     ]
    }
   ],
   "source": [
    "IdFun.f \"hello\""
   ]
  },
  {
   "cell_type": "markdown",
   "metadata": {},
   "source": [
    "Note that we can't use any other type here, as the module is sealed."
   ]
  }
 ],
 "metadata": {
  "kernelspec": {
   "display_name": "OCaml cs3110-2021sp",
   "language": "OCaml",
   "name": "ocaml-jupyter"
  },
  "language_info": {
   "codemirror_mode": "text/x-ocaml",
   "file_extension": ".ml",
   "mimetype": "text/x-ocaml",
   "name": "OCaml",
   "nbconverter_exporter": null,
   "pygments_lexer": "OCaml",
   "version": "4.11.1"
  }
 },
 "nbformat": 4,
 "nbformat_minor": 4
}
