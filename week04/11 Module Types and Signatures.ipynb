{
 "cells": [
  {
   "cell_type": "markdown",
   "metadata": {},
   "source": [
    "# **11** Module Types and Signatures\n",
    "\n",
    "OCaml has a similar feature to interfaces called _signatures_"
   ]
  },
  {
   "cell_type": "code",
   "execution_count": 1,
   "metadata": {},
   "outputs": [
    {
     "data": {
      "text/plain": [
       "module type Fact = sig val fact : int -> int end\n"
      ]
     },
     "execution_count": 1,
     "metadata": {},
     "output_type": "execute_result"
    }
   ],
   "source": [
    "module type Fact = sig\n",
    "\t(** [fact n] is n factorial. *)\n",
    "\tval fact : int -> int\n",
    "end"
   ]
  },
  {
   "cell_type": "markdown",
   "metadata": {},
   "source": [
    "Here we say \"module type,\" because we specify what _type_ a module has, rather than it's value. `sig` represents a signature. Here we specify that there must be a value called \"fact,\" that takes an `int` and returns an `int`. It's the same type of signature that utop returns!"
   ]
  },
  {
   "cell_type": "code",
   "execution_count": 2,
   "metadata": {},
   "outputs": [
    {
     "data": {
      "text/plain": [
       "module RecursiveFact : Fact\n"
      ]
     },
     "execution_count": 2,
     "metadata": {},
     "output_type": "execute_result"
    }
   ],
   "source": [
    "module RecursiveFact : Fact = struct\n",
    "\tlet rec fact n =\n",
    "\t\tif n = 0 then 1 else n * fact (n - 1)\n",
    "end"
   ]
  },
  {
   "cell_type": "markdown",
   "metadata": {},
   "source": [
    "Here, we implement RecursiveFact which is of type `Fact`. The typechecker makes sure that the types are correct."
   ]
  },
  {
   "cell_type": "code",
   "execution_count": 3,
   "metadata": {},
   "outputs": [
    {
     "ename": "error",
     "evalue": "compile_error",
     "output_type": "error",
     "traceback": [
      "File \"[3]\", lines 1-3, characters 26-3:\n1 | ..........................struct\n2 | \tlet printHello = print_endline \"Hello\"\n3 | end\nError: Signature mismatch:\n       Modules do not match:\n         sig val printHello : unit end\n       is not included in\n         Fact\n       The value `fact' is required but not provided\n       File \"[1]\", line 3, characters 1-22: Expected declaration\n"
     ]
    }
   ],
   "source": [
    "module ImNotFact : Fact = struct\n",
    "\tlet printHello = print_endline \"Hello\"\n",
    "end"
   ]
  },
  {
   "cell_type": "markdown",
   "metadata": {},
   "source": [
    "But you can have extra values!"
   ]
  },
  {
   "cell_type": "code",
   "execution_count": 4,
   "metadata": {},
   "outputs": [
    {
     "data": {
      "text/plain": [
       "module FactWithAddOne : Fact\n"
      ]
     },
     "execution_count": 4,
     "metadata": {},
     "output_type": "execute_result"
    }
   ],
   "source": [
    "module FactWithAddOne : Fact = struct\n",
    "\tlet fact = RecursiveFact.fact\n",
    "\tlet add_one = ( + ) 1\n",
    "end"
   ]
  },
  {
   "cell_type": "code",
   "execution_count": 5,
   "metadata": {},
   "outputs": [
    {
     "ename": "error",
     "evalue": "compile_error",
     "output_type": "error",
     "traceback": [
      "File \"[5]\", line 1, characters 0-22:\n1 | FactWithAddOne.add_one 1\n    ^^^^^^^^^^^^^^^^^^^^^^\nError: Unbound value FactWithAddOne.add_one\n"
     ]
    }
   ],
   "source": [
    "FactWithAddOne.add_one 1"
   ]
  },
  {
   "cell_type": "markdown",
   "metadata": {},
   "source": [
    "You can have multiple modules that implement the same signature:"
   ]
  },
  {
   "cell_type": "code",
   "execution_count": 6,
   "metadata": {},
   "outputs": [
    {
     "data": {
      "text/plain": [
       "module TailRecursiveFact : Fact\n"
      ]
     },
     "execution_count": 6,
     "metadata": {},
     "output_type": "execute_result"
    }
   ],
   "source": [
    "module TailRecursiveFact : Fact = struct\n",
    "\tlet rec fact_aux acc n = \n",
    "\t\tif n = 0 then acc\n",
    "\t\telse fact_aux (n * acc) (n - 1)\n",
    "\t\n",
    "\tlet fact = fact_aux 0\n",
    "end"
   ]
  }
 ],
 "metadata": {
  "kernelspec": {
   "display_name": "OCaml cs3110-2021sp",
   "language": "OCaml",
   "name": "ocaml-jupyter"
  },
  "language_info": {
   "codemirror_mode": "text/x-ocaml",
   "file_extension": ".ml",
   "mimetype": "text/x-ocaml",
   "name": "OCaml",
   "nbconverter_exporter": null,
   "pygments_lexer": "OCaml",
   "version": "4.11.1"
  }
 },
 "nbformat": 4,
 "nbformat_minor": 4
}
