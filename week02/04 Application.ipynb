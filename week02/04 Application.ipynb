{
 "cells": [
  {
   "cell_type": "markdown",
   "metadata": {},
   "source": [
    "# **04** Application\n",
    "\n",
    "Function application is written just by putting functions next to each other\n",
    "\n",
    "`e0 e1 ... en`, where `e0` is the function expression, and `e1` through `en` are the parameters. Note that there are no commas or parenthesis, it's incorrect to add them.\n",
    "\n",
    "## Evaluation\n",
    "\n",
    "Evaluation is done by first evaluating all of the sub-expressions (`e1` through `en`) then evaluating the function.\n",
    "\n",
    "1. ```e0 => v0, ..., en => vn``` where `v0` ... `vn` are functions with signature `fun x1 ... xn -> e` \n",
    "2. Substitute `vi` for `xi` yielding the new expression `e'`. Evaluate it `e' ==> v`\n",
    "3. Result is `v`.\n",
    "\n",
    "Let's try it with the function `fun x -> x + 1`"
   ]
  },
  {
   "cell_type": "code",
   "execution_count": 1,
   "metadata": {},
   "outputs": [
    {
     "data": {
      "text/plain": [
       "- : int = 6\n"
      ]
     },
     "execution_count": 1,
     "metadata": {},
     "output_type": "execute_result"
    }
   ],
   "source": [
    "(fun x -> x + 1) (2 + 3);;"
   ]
  },
  {
   "cell_type": "markdown",
   "metadata": {},
   "source": [
    "What's happening here?\n",
    "\n",
    "1. `e0` is evaluated to a value - done because the anonymous function is a value.\n",
    "2. `e1` is evaluated to a value - `2 + 3 ==> 5`. Now we have `(fun x -> x + 1)  5;;`.\n",
    "3. Substitute the parameters for their values: `5 + 1`.\n",
    "4. Evaluate `5 + 1 ==> 6`.\n",
    "\n",
    "Now let's try another example:"
   ]
  },
  {
   "cell_type": "code",
   "execution_count": 2,
   "metadata": {},
   "outputs": [
    {
     "data": {
      "text/plain": [
       "- : int = 5\n"
      ]
     },
     "execution_count": 2,
     "metadata": {},
     "output_type": "execute_result"
    }
   ],
   "source": [
    "(fun x y -> x + y) (3 * 1) (3 - 1);;"
   ]
  },
  {
   "cell_type": "markdown",
   "metadata": {},
   "source": [
    "1. `e0` is evaluated to a value – done because the anonymous function is a value.\n",
    "2. `e1` and `e2` are evaluated to values\n",
    "    - `3 * 1 ==> 3`\n",
    "    - `3 - 1 ==> 2`\n",
    "3. The parameters are substituted for their values\n",
    "    - `3 + 2`\n",
    "4. The expression is evaluated\n",
    "    - `3 + 2 ==> 5`"
   ]
  }
 ],
 "metadata": {
  "kernelspec": {
   "display_name": "OCaml cs3110-2021sp",
   "language": "OCaml",
   "name": "ocaml-jupyter"
  },
  "language_info": {
   "codemirror_mode": "text/x-ocaml",
   "file_extension": ".ml",
   "mimetype": "text/x-ocaml",
   "name": "OCaml",
   "nbconverter_exporter": null,
   "pygments_lexer": "OCaml",
   "version": "4.11.1"
  }
 },
 "nbformat": 4,
 "nbformat_minor": 4
}
