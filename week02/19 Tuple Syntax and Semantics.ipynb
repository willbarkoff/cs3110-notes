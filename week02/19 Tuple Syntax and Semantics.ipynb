{
 "cells": [
  {
   "cell_type": "markdown",
   "metadata": {},
   "source": [
    "# **19** Tuple Syntax and Semantics\n",
    "\n",
    "## Syntax\n",
    "`(e1, e2)` is a tuple\n",
    " - so is `(e1, e2, e3, ...)`\n",
    " - Order of components does matter, as tuples are accessed by position, not name\n",
    "\n",
    "## Semantics\n",
    "If `ei ==> vi`, then `(e1, ..., en) ==> (vi, ..., vn)`.\n",
    "\n",
    "If `ei : ti`, then `(e1, ..., en) : t1 * ... * tn`."
   ]
  },
  {
   "cell_type": "code",
   "execution_count": 1,
   "metadata": {},
   "outputs": [
    {
     "data": {
      "text/plain": [
       "type time = int * int * string\n"
      ]
     },
     "execution_count": 1,
     "metadata": {},
     "output_type": "execute_result"
    },
    {
     "data": {
      "text/plain": [
       "val t : time = (10, 10, \"am\")\n"
      ]
     },
     "execution_count": 1,
     "metadata": {},
     "output_type": "execute_result"
    }
   ],
   "source": [
    "type time = int * int * string;;\n",
    "let t : time = (10, 10, \"am\");;"
   ]
  },
  {
   "cell_type": "code",
   "execution_count": 2,
   "metadata": {},
   "outputs": [
    {
     "data": {
      "text/plain": [
       "type point = float * float\n"
      ]
     },
     "execution_count": 2,
     "metadata": {},
     "output_type": "execute_result"
    },
    {
     "data": {
      "text/plain": [
       "val p : point = (2.1, 5.1)\n"
      ]
     },
     "execution_count": 2,
     "metadata": {},
     "output_type": "execute_result"
    }
   ],
   "source": [
    "type point = float * float;;\n",
    "let p : point = (2.1, 5.1);;"
   ]
  }
 ],
 "metadata": {
  "kernelspec": {
   "display_name": "OCaml cs3110-2021sp",
   "language": "OCaml",
   "name": "ocaml-jupyter"
  },
  "language_info": {
   "codemirror_mode": "text/x-ocaml",
   "file_extension": ".ml",
   "mimetype": "text/x-ocaml",
   "name": "OCaml",
   "nbconverter_exporter": null,
   "pygments_lexer": "OCaml",
   "version": "4.11.1"
  }
 },
 "nbformat": 4,
 "nbformat_minor": 4
}
