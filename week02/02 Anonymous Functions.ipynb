{
 "cells": [
  {
   "cell_type": "markdown",
   "metadata": {},
   "source": [
    "# **02** Anonymous Functions\n",
    "\n",
    "The most basic kind of function in OCaml is the anonymous function."
   ]
  },
  {
   "cell_type": "markdown",
   "metadata": {},
   "source": [
    "This anonymous function takes in an argument, `x`, and returns `x + 1`."
   ]
  },
  {
   "cell_type": "code",
   "execution_count": 1,
   "metadata": {},
   "outputs": [
    {
     "data": {
      "text/plain": [
       "- : int -> int = <fun>\n"
      ]
     },
     "execution_count": 1,
     "metadata": {},
     "output_type": "execute_result"
    }
   ],
   "source": [
    "(fun x -> x + 1)"
   ]
  },
  {
   "cell_type": "markdown",
   "metadata": {},
   "source": [
    "What does this output mean?\n",
    "\n",
    "- `<fun>`. The angle brackets mean that this is an _unprintable value_. `utop` cannot fully display this type. It tells us that it's a function, but it cannot tell us more about the value.\n",
    "- `int -> int` is the type of the function. `int -> int` means that the function takes in an integer as input, and returns an integer.\n",
    "- `-` means that it's anonymous.\n",
    "\n",
    "This has a lot of parallels to other things we've seen."
   ]
  },
  {
   "cell_type": "code",
   "execution_count": 2,
   "metadata": {},
   "outputs": [
    {
     "data": {
      "text/plain": [
       "- : int = 3110\n"
      ]
     },
     "execution_count": 2,
     "metadata": {},
     "output_type": "execute_result"
    }
   ],
   "source": [
    "3110;;"
   ]
  },
  {
   "cell_type": "markdown",
   "metadata": {},
   "source": [
    "Here we have the anonymous integer `3110`. See the `-`? That means it's anonymous.\n",
    "\n",
    "Let's try to call our function!"
   ]
  },
  {
   "cell_type": "code",
   "execution_count": 3,
   "metadata": {},
   "outputs": [
    {
     "data": {
      "text/plain": [
       "- : int = 3111\n"
      ]
     },
     "execution_count": 3,
     "metadata": {},
     "output_type": "execute_result"
    }
   ],
   "source": [
    "(fun x -> x + 1) 3110;;"
   ]
  },
  {
   "cell_type": "markdown",
   "metadata": {},
   "source": [
    "In OCaml, we just write our arguments immediately after our function. Here, `3110` is parsed as the argument and `fun x -> x  + 1` is the function.\n",
    "\n",
    "Here we have a function that takes the average of two floats."
   ]
  },
  {
   "cell_type": "code",
   "execution_count": 4,
   "metadata": {},
   "outputs": [
    {
     "data": {
      "text/plain": [
       "- : float -> float -> float = <fun>\n"
      ]
     },
     "execution_count": 4,
     "metadata": {},
     "output_type": "execute_result"
    }
   ],
   "source": [
    "(fun x y -> (x +. y) /. 2.);;"
   ]
  },
  {
   "cell_type": "markdown",
   "metadata": {},
   "source": [
    "We can also call this function the same way!"
   ]
  },
  {
   "cell_type": "code",
   "execution_count": 5,
   "metadata": {},
   "outputs": [
    {
     "data": {
      "text/plain": [
       "- : float = 2610.\n"
      ]
     },
     "execution_count": 5,
     "metadata": {},
     "output_type": "execute_result"
    }
   ],
   "source": [
    "(fun x y -> (x +. y) /. 2.) 2110. 3110.;;"
   ]
  }
 ],
 "metadata": {
  "kernelspec": {
   "display_name": "OCaml cs3110-2021sp",
   "language": "OCaml",
   "name": "ocaml-jupyter"
  },
  "language_info": {
   "codemirror_mode": "text/x-ocaml",
   "file_extension": ".ml",
   "mimetype": "text/x-ocaml",
   "name": "OCaml",
   "nbconverter_exporter": null,
   "pygments_lexer": "OCaml",
   "version": "4.11.1"
  }
 },
 "nbformat": 4,
 "nbformat_minor": 4
}
