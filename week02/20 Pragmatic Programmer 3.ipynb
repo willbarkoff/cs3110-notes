{
 "cells": [
  {
   "cell_type": "markdown",
   "metadata": {},
   "source": [
    "# The Pragmatic Programmer (Part 3)\n",
    "\n",
    "## Tip 9: Invest regularly in your knowledge portfolio\n",
    "_Instead of excuses, provide options. Don't say it can't be done, explain what can be done._\n",
    "\n",
    "Keep learning. Keep seeking knowledge.\n",
    "\n",
    "## Tip 10: Critically analyze what you read and hear\n",
    "_Don't be swayed by vendors, media hype, or dogma. Analyze information in terms of you and your product_.\n",
    "\n",
    "Don't believe everything you hear,.\n",
    "\n",
    "## Tip 11: English is just another programming language\n",
    "_Write documents as you would code._\n",
    "\n",
    "You think before you write software, and learn how to communicate in a method so that others understand you. Apply this to code as well.\n",
    "\n",
    "## Tip 12: It's both what you say and how you say it.\n",
    "_There's no point in having great ideas if you can't communicate them effectively._\n",
    "\n",
    "Make sure that you're able to talk about your ideas in a clear way so that others can understand you. Be able to make effective arguments."
   ]
  }
 ],
 "metadata": {
  "kernelspec": {
   "display_name": "OCaml cs3110-2021sp",
   "language": "OCaml",
   "name": "ocaml-jupyter"
  },
  "language_info": {
   "codemirror_mode": "text/x-ocaml",
   "file_extension": ".ml",
   "mimetype": "text/x-ocaml",
   "name": "OCaml",
   "nbconverter_exporter": null,
   "pygments_lexer": "OCaml",
   "version": "4.11.1"
  }
 },
 "nbformat": 4,
 "nbformat_minor": 4
}
