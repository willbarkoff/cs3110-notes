{
 "cells": [
  {
   "cell_type": "markdown",
   "metadata": {},
   "source": [
    "# **07** Function Types\n",
    "\n",
    "Let's take a closer look at the _static semantics_, or type checking, of functions.\n",
    "\n",
    "Type `t -> u` is the type of a function that takes in input of type `t` and returns an output of type `u`.\n",
    "\n",
    "Type `t1 -> t2 -> u` is the type of a function that takes an input of type `t1` and another input of type `t2`, and returns an output of type `u`. The last type (at the end of all of the arrows) is always the output of the function.\n",
    "\n",
    "Notice that there's a dual purpose for the `->` syntax. It's being used for the function types, and function values when using the keyword `fun`. That's nice because they're both pretty similar!\n",
    "\n",
    "The type checking rules state:\n",
    "- If `x1 : t1, ..., xn : tn`\n",
    "- and `e : u`\n",
    "- then `(fun x1 ... xn -> e) : t1 -> ... -> tn -> u`\n",
    "\n",
    "Let's look at some examples!"
   ]
  },
  {
   "cell_type": "code",
   "execution_count": 1,
   "metadata": {},
   "outputs": [
    {
     "data": {
      "text/plain": [
       "- : int -> int = <fun>\n"
      ]
     },
     "execution_count": 1,
     "metadata": {},
     "output_type": "execute_result"
    }
   ],
   "source": [
    "fun (x : int) -> x + 1;; (* OCaml doesn't need us to explicitly declare this type, but we do it for the sake of the demo*)"
   ]
  },
  {
   "cell_type": "markdown",
   "metadata": {},
   "source": [
    "We can see that `x + 1` has a type int, and `x` has a type int, so the function has a type `int -> int`.\n",
    "\n",
    "What about multiple inputs?"
   ]
  },
  {
   "cell_type": "code",
   "execution_count": 2,
   "metadata": {},
   "outputs": [
    {
     "data": {
      "text/plain": [
       "- : int -> int -> int = <fun>\n"
      ]
     },
     "execution_count": 2,
     "metadata": {},
     "output_type": "execute_result"
    }
   ],
   "source": [
    "fun x y -> x + y;;"
   ]
  },
  {
   "cell_type": "markdown",
   "metadata": {},
   "source": [
    "OCaml implicitly determines the types:\n",
    "- `x : int`\n",
    "- `y : int`\n",
    "\n",
    "Since `x` and `y` are `int`s, we can see that `x + y` is an int, so the function has type `int -> int -> int`."
   ]
  },
  {
   "cell_type": "markdown",
   "metadata": {},
   "source": [
    "Function application has very similar rules:\n",
    "- If `e0 : t1 -> ... -> tn -> u` and `e1 : t1, ..., en : tn`\n",
    "- Then `e0 e1 ... en : u`."
   ]
  }
 ],
 "metadata": {
  "kernelspec": {
   "display_name": "OCaml cs3110-2021sp",
   "language": "OCaml",
   "name": "ocaml-jupyter"
  },
  "language_info": {
   "codemirror_mode": "text/x-ocaml",
   "file_extension": ".ml",
   "mimetype": "text/x-ocaml",
   "name": "OCaml",
   "nbconverter_exporter": null,
   "pygments_lexer": "OCaml",
   "version": "4.11.1"
  }
 },
 "nbformat": 4,
 "nbformat_minor": 4
}
