{
 "cells": [
  {
   "cell_type": "markdown",
   "metadata": {},
   "source": [
    "# **15** List Syntax and Semantics.\n",
    "\n",
    "## Pronunciation\n",
    "- `[]` is pronounced \"nil\"\n",
    "- `::` is pronounced \"cons,\" short for \"constructor\"\n",
    "(these are borrowed from Lisp)\n",
    "\n",
    "## Syntax\n",
    "- `[]` is the empty list\n",
    "- `e1 :: e2` prepends element `e1` to list `e2`\n",
    "- `[e1; e2]` is syntactic sugar for `e1 :: e2 :: []`\n",
    "\n",
    "## Semantics\n",
    "- [] is a value\n",
    "- To evaluate `e1 :: e2`\n",
    "    - evaluate `e1` to value `v1`\n",
    "    - evaluate `e2` to a (list) value `v2`\n",
    "    - return `v1 :: v2`\n",
    "    \n",
    "## List types\n",
    "For any type `t`, the type `t list` describes list where all elements have type `t`.\n",
    "- `[1; 2; 3]  : int list`\n",
    "- `[true] : bool list`\n",
    "- `[[1 + 1; 2 - 3]; [3 * 7]] : int list list`\n",
    "\n",
    "`[] : 'a`\n",
    "if `e1 : t ` and `e2 : t list`, then `e1 :: e2 : t list`."
   ]
  }
 ],
 "metadata": {
  "kernelspec": {
   "display_name": "OCaml cs3110-2021sp",
   "language": "OCaml",
   "name": "ocaml-jupyter"
  },
  "language_info": {
   "codemirror_mode": "text/x-ocaml",
   "file_extension": ".ml",
   "mimetype": "text/x-ocaml",
   "name": "OCaml",
   "nbconverter_exporter": null,
   "pygments_lexer": "OCaml",
   "version": "4.11.1"
  }
 },
 "nbformat": 4,
 "nbformat_minor": 4
}
