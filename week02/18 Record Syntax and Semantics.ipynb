{
 "cells": [
  {
   "cell_type": "markdown",
   "metadata": {},
   "source": [
    "# **18** Record Syntax and Semantics\n",
    "\n",
    "## Record syntax\n",
    "- `{f1 = e1; f2 = e2}` is a record with fields named `f1` and `f2`.\n",
    "    - field order is irrelevant\n",
    "    - any number of fields is permitted between 1 and about 4 million\n",
    "- `e.f` accesses field `f` of a record expression `e`.\n",
    "- `f` must be an identifier.\n",
    "\n",
    "## Record semantics\n",
    "Evaluation:\n",
    "- if `ei ==> vi` then\n",
    "    - `{f1 = e1; ...; fn = en} => {f1 = v1; ...; fn = vn}`.\n",
    "- if `e ==> {..., f = v; ...}` then\n",
    "    - `e.f ==> v`\n",
    "\n",
    "Type checking:\n",
    "- Record types must be defined before you use them. This is so that OCaml knows what the field names will be.\n",
    "- If `ei : ti` and if `t` is defined to be `{f1 : t1, ..., fn : tn}` then\n",
    "    - `{f1 = e1; ...; fn = en} : t`.\n",
    "- if `e : t` and `t`  is defined to be `{..., f : tf; ...}` then\n",
    "    - `e.f : tf`.\n",
    "    \n",
    "## Record copy\n",
    "`{e with f1 = e1}` will create a _copy_ of record `e` with field `f1` set to `e1`."
   ]
  },
  {
   "cell_type": "code",
   "execution_count": 1,
   "metadata": {},
   "outputs": [
    {
     "data": {
      "text/plain": [
       "type student = { name : string; year : int; }\n"
      ]
     },
     "execution_count": 1,
     "metadata": {},
     "output_type": "execute_result"
    },
    {
     "data": {
      "text/plain": [
       "val rbg : student = {name = \"Ruth Bader\"; year = 1954}\n"
      ]
     },
     "execution_count": 1,
     "metadata": {},
     "output_type": "execute_result"
    }
   ],
   "source": [
    "type student = { name: string; year: int; };;\n",
    "let rbg : student = { name = \"Ruth Bader\"; year = 1954 };;"
   ]
  },
  {
   "cell_type": "code",
   "execution_count": 2,
   "metadata": {},
   "outputs": [
    {
     "data": {
      "text/plain": [
       "- : student = {name = \"Ruth Bader Ginsburg\"; year = 1954}\n"
      ]
     },
     "execution_count": 2,
     "metadata": {},
     "output_type": "execute_result"
    }
   ],
   "source": [
    "{rbg with name = \"Ruth Bader Ginsburg\"}"
   ]
  },
  {
   "cell_type": "markdown",
   "metadata": {},
   "source": [
    "Note that this created a new record, it's immutable, as always."
   ]
  },
  {
   "cell_type": "code",
   "execution_count": 3,
   "metadata": {},
   "outputs": [
    {
     "data": {
      "text/plain": [
       "- : student = {name = \"Ruth Bader\"; year = 1954}\n"
      ]
     },
     "execution_count": 3,
     "metadata": {},
     "output_type": "execute_result"
    }
   ],
   "source": [
    "rbg;;"
   ]
  },
  {
   "cell_type": "markdown",
   "metadata": {},
   "source": [
    "In reality, record copy is syntactic sugar for just rewriting the record from scratch. It's much easier to change fields like this. Note that you can't add more fields, because that would change the type:"
   ]
  },
  {
   "cell_type": "code",
   "execution_count": 4,
   "metadata": {},
   "outputs": [
    {
     "ename": "error",
     "evalue": "compile_error",
     "output_type": "error",
     "traceback": [
      "File \"[4]\", line 1, characters 10-20:\n1 | {rbg with profession = \"Justice\"};;\n              ^^^^^^^^^^\nError: This record expression is expected to have type student\n       The field profession does not belong to type student\n"
     ]
    }
   ],
   "source": [
    "{rbg with profession = \"Justice\"};;"
   ]
  }
 ],
 "metadata": {
  "kernelspec": {
   "display_name": "OCaml cs3110-2021sp",
   "language": "OCaml",
   "name": "ocaml-jupyter"
  },
  "language_info": {
   "codemirror_mode": "text/x-ocaml",
   "file_extension": ".ml",
   "mimetype": "text/x-ocaml",
   "name": "OCaml",
   "nbconverter_exporter": null,
   "pygments_lexer": "OCaml",
   "version": "4.11.1"
  }
 },
 "nbformat": 4,
 "nbformat_minor": 4
}
