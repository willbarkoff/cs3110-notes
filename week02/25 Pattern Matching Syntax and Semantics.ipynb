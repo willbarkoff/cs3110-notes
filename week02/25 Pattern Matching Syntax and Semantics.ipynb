{
 "cells": [
  {
   "cell_type": "markdown",
   "metadata": {},
   "source": [
    "# **25** Pattern Matching Syntax and Semantics\n",
    "\n",
    "## Syntax\n",
    "```ocaml\n",
    "match e with\n",
    "    | p1 -> e1\n",
    "    | p2 -> e2\n",
    "    | ...\n",
    "    | pn -> en\n",
    "```\n",
    "\n",
    "`p` is a new syntactic class, a _pattern expression_.\n",
    "\n",
    "## Evaluation Semantics\n",
    "- If `e ==> v`\n",
    "    - and `pi` is the first pattern, top-to-bottom left-to-right, that matches `v`\n",
    "    - and `ei ==> vi`\n",
    "    - then `(match e ...) ==> vi`\n",
    "- If no patterns match, an exception is raised\n",
    "\n",
    "## Type-Checking Semantics\n",
    "- If `e` and `pi` have type `ta`\n",
    "- and `ei` has type `tb`\n",
    "- then the entire match expression has type `tb`.\n",
    "\n",
    "## Basic matching syntax\n",
    "- `x` (any identifier)\n",
    "- `_` (wildcard)\n",
    "- any constant\n",
    "\n",
    "## How does matching work?\n",
    "- A constant matches itself.\n",
    "- An identifier (also known as a _pattern variable_), will match anything, and bind itself to the value\n",
    "- The wildcard (`_`) will match anything.\n",
    "- Each data type has it's own matching pattern\n",
    "    - `[]`\n",
    "    - `p1 :: p2` etc.\n",
    "    - `[pi; p2]` etc.\n",
    "    - `(p1, p2]` etc.\n",
    "    - `{f1 = p1; f2 = p2}` etc."
   ]
  }
 ],
 "metadata": {
  "kernelspec": {
   "display_name": "OCaml cs3110-2021sp",
   "language": "OCaml",
   "name": "ocaml-jupyter"
  },
  "language_info": {
   "codemirror_mode": "text/x-ocaml",
   "file_extension": ".ml",
   "mimetype": "text/x-ocaml",
   "name": "OCaml",
   "nbconverter_exporter": null,
   "pygments_lexer": "OCaml",
   "version": "4.11.1"
  }
 },
 "nbformat": 4,
 "nbformat_minor": 4
}
