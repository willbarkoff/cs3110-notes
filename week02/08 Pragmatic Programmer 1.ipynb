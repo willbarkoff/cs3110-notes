{
 "cells": [
  {
   "cell_type": "markdown",
   "metadata": {},
   "source": [
    "# **08** The Pragmatic Programmer (Part 1)\n",
    "\n",
    "_We're going to talk about readings from [The Pragmatic Programmer](https://en.wikipedia.org/wiki/The_Pragmatic_Programmer) each week_\n",
    "\n",
    "## Tip 1: Care About Your Craft\n",
    "_Why spend your life developing software unless you care about doing it well?_\n",
    "\n",
    "It's okay if you're taking 3110 just because you need to take it, but if you want to become a computer scientist, or a software engineer, or anything to be fair, you need to care about your software engineering practices.\n",
    "\n",
    "Try to improve your work each assignment.\n",
    "\n",
    "## Tip 2: Think! About Your Work\n",
    "_Turn off the autopilot and take control. Constantly critique and appraise your work._\n",
    "\n",
    "The \"Think!\" has an exclamation mark because it's the IBM motto, it's not a typo! Constantly re-examine your work and figure out how to improve. Don't just do it because it needs to be done, do it because you _care about_ the work. It's okay if this isn't always true, but you should strive for it.\n",
    "\n",
    "## Tip 3: You Have Agency\n",
    "_It's your life. Grab hold of it and make it what you want._\n",
    "\n",
    "Take time in college to explore and determine what you want. Take time in the summers to explore industry. Make the most of what you are doing. If you're not happy, seize hold and fix it.\n",
    "\n",
    "Make sure to reflect on what you're learning. Don't stay stuck doing things you aren't happy with."
   ]
  }
 ],
 "metadata": {
  "kernelspec": {
   "display_name": "OCaml cs3110-2021sp",
   "language": "OCaml",
   "name": "ocaml-jupyter"
  },
  "language_info": {
   "codemirror_mode": "text/x-ocaml",
   "file_extension": ".ml",
   "mimetype": "text/x-ocaml",
   "name": "OCaml",
   "nbconverter_exporter": null,
   "pygments_lexer": "OCaml",
   "version": "4.11.1"
  }
 },
 "nbformat": 4,
 "nbformat_minor": 4
}
