{
 "cells": [
  {
   "cell_type": "markdown",
   "metadata": {},
   "source": [
    "# **03** Lambdas\n",
    "\n",
    "Now let's look closer at the syntax of anonymous functions:\n",
    "\n",
    "## Syntax\n",
    "```fun x1 ... xn -> e```\n",
    "\n",
    "- `fun` is a keyword meaning that we're declaring a function\n",
    "- `x1 ... xn` are parameters. You can name them in any way that you can name variables\n",
    "- `e` is the function body. It's an expression.\n",
    "\n",
    "## Evaluation\n",
    " - **A function is a value**. There is no further computation to do.\n",
    " - The body of the function (`e`) isn't evaluated until the function is applied.\n",
    " \n",
    "A common mistake that people make is that people think the body of the function is evaluated when it's declared.\n",
    "\n",
    "---\n",
    "\n",
    "Anonymous functions are also known as _lambda expressions_. This comes from math, with `λx.e` being the notation. The λ means that \"what follows is an anonymous function,\" like the `fun` keyword in OCaml.\n",
    "\n",
    "Lambdas are popular in many languages\n",
    "- Java\n",
    "- Go\n",
    "- Python\n",
    "- And many more!\n",
    "\n",
    "[Lambda Style](https://youtu.be/Ci48kqp11F8)\n",
    "\n",
    "<iframe width=\"560\" height=\"315\" src=\"https://www.youtube.com/embed/Ci48kqp11F8\" frameborder=\"0\" allow=\"accelerometer; autoplay; clipboard-write; encrypted-media; gyroscope; picture-in-picture\" allowfullscreen></iframe>\n",
    "\n",
    "---\n",
    "\n",
    "Functions as values is a design decision in OCaml. We can use functions anywhere we use values. Functions can take functions as parameters, and functions can return functions. This is one of the main principles of functional programming."
   ]
  }
 ],
 "metadata": {
  "kernelspec": {
   "display_name": "OCaml cs3110-2021sp",
   "language": "OCaml",
   "name": "ocaml-jupyter"
  },
  "language_info": {
   "codemirror_mode": "text/x-ocaml",
   "file_extension": ".ml",
   "mimetype": "text/x-ocaml",
   "name": "OCaml",
   "nbconverter_exporter": null,
   "pygments_lexer": "OCaml",
   "version": "4.11.1"
  }
 },
 "nbformat": 4,
 "nbformat_minor": 4
}
