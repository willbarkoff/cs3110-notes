{
 "cells": [
  {
   "cell_type": "markdown",
   "metadata": {},
   "source": [
    "# **23** The Function Keyword"
   ]
  },
  {
   "cell_type": "markdown",
   "metadata": {},
   "source": [
    "Note that in the empty function we wrote, we immediately pattern match. For reference, here was our implementation of `empty` from last lesson:\n",
    "\n",
    "```ocaml\n",
    "let empty lst =\n",
    "    match lst with\n",
    "    | [] -> true\n",
    "    | h :: t -> false\n",
    "```\n",
    "\n",
    "This is so common, that OCaml provides an idiomatic form for it. It's a form of syntactic sugar again.\n",
    "\n",
    "```ocaml\n",
    "let f x y z =\n",
    "    match z with\n",
    "    | p1 -> e1\n",
    "    | p2 -> e2\n",
    "```\n",
    "can be rewritten as\n",
    "\n",
    "```ocaml\n",
    "let f x y = function\n",
    "    | p1 -> e1\n",
    "    | p2 -> e2\n",
    "```\n",
    "\n",
    "We can cleanup empty to use this new format:"
   ]
  },
  {
   "cell_type": "code",
   "execution_count": 1,
   "metadata": {},
   "outputs": [
    {
     "data": {
      "text/plain": [
       "val empty : 'a list -> bool = <fun>\n"
      ]
     },
     "execution_count": 1,
     "metadata": {},
     "output_type": "execute_result"
    }
   ],
   "source": [
    "let empty = function\n",
    "\t| [] -> true\n",
    "\t| h :: t -> false;;"
   ]
  },
  {
   "cell_type": "code",
   "execution_count": 2,
   "metadata": {},
   "outputs": [
    {
     "data": {
      "text/plain": [
       "- : bool = true\n"
      ]
     },
     "execution_count": 2,
     "metadata": {},
     "output_type": "execute_result"
    }
   ],
   "source": [
    "empty [];;"
   ]
  },
  {
   "cell_type": "markdown",
   "metadata": {},
   "source": [
    "We can also implement our `sum` function:\n",
    "\n",
    "```ocaml\n",
    "let rec sum lst =\n",
    "\tmatch lst with\n",
    "\t| [] -> 0\n",
    "\t| h :: t -> h + sum t;;\n",
    "```"
   ]
  },
  {
   "cell_type": "code",
   "execution_count": 3,
   "metadata": {},
   "outputs": [
    {
     "data": {
      "text/plain": [
       "val sum : int list -> int = <fun>\n"
      ]
     },
     "execution_count": 3,
     "metadata": {},
     "output_type": "execute_result"
    }
   ],
   "source": [
    "let rec sum = function\n",
    "\t| [] -> 0\n",
    "\t| h :: t -> h + sum t;;"
   ]
  },
  {
   "cell_type": "code",
   "execution_count": 4,
   "metadata": {},
   "outputs": [
    {
     "data": {
      "text/plain": [
       "- : int = 10\n"
      ]
     },
     "execution_count": 4,
     "metadata": {},
     "output_type": "execute_result"
    }
   ],
   "source": [
    "sum [1; 2; 3; 4]"
   ]
  },
  {
   "cell_type": "markdown",
   "metadata": {},
   "source": [
    "One more example with `length`:\n",
    "\n",
    "```ocaml\n",
    "let rec length lst =\n",
    "\tmatch lst with\n",
    "\t| [] -> 0\n",
    "\t| h :: t -> 1 + length t;;\n",
    "```"
   ]
  },
  {
   "cell_type": "code",
   "execution_count": 5,
   "metadata": {},
   "outputs": [
    {
     "data": {
      "text/plain": [
       "val length : 'a list -> int = <fun>\n"
      ]
     },
     "execution_count": 5,
     "metadata": {},
     "output_type": "execute_result"
    }
   ],
   "source": [
    "let rec length = function\n",
    "\t| [] -> 0\n",
    "\t| h :: t -> 1 + length t;;"
   ]
  },
  {
   "cell_type": "code",
   "execution_count": 6,
   "metadata": {},
   "outputs": [
    {
     "data": {
      "text/plain": [
       "- : int = 5\n"
      ]
     },
     "execution_count": 6,
     "metadata": {},
     "output_type": "execute_result"
    }
   ],
   "source": [
    "length [1; 2; 3; 4; 5]"
   ]
  }
 ],
 "metadata": {
  "kernelspec": {
   "display_name": "OCaml cs3110-2021sp",
   "language": "OCaml",
   "name": "ocaml-jupyter"
  },
  "language_info": {
   "codemirror_mode": "text/x-ocaml",
   "file_extension": ".ml",
   "mimetype": "text/x-ocaml",
   "name": "OCaml",
   "nbconverter_exporter": null,
   "pygments_lexer": "OCaml",
   "version": "4.11.1"
  }
 },
 "nbformat": 4,
 "nbformat_minor": 4
}
