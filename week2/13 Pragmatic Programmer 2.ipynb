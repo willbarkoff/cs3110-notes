{
 "cells": [
  {
   "cell_type": "markdown",
   "metadata": {},
   "source": [
    "# The Pragmatic Programmer (Part 2)\n",
    "\n",
    "## Tip 4: Provide Options, Don't Make Lame Excuses\n",
    "_Instead of excuses, provide options. Don't say it can't be done, explain what can be done._\n",
    "\n",
    "You can't just say \"no\" to your boss, but you can say \"I can't do that, but here's what I can do instead.\"\n",
    "\n",
    "## Tip 5: Don't live with Broken Windows\n",
    "_Fix bad designs, wrong decisions, and poor code when you see them._\n",
    "\n",
    "It is too easy for bad code to become a permanent part of a codebase. Fix issues when you find them. The next time you find yourself writing code that isn't up to par, _at least_ add a comment to fix it later, or even better, fix it right then and there.\n",
    "\n",
    "## Tip 6: Be a Catalyst for Change\n",
    "_You can't force change on people. Instead, show them how the future might be and help them participate in creating it._\n",
    "\n",
    "Be the change you wish to see in the world. This goes for software as well as the actual world.\n",
    "\n",
    "## Tip 7: Remember the Big Picture\n",
    "_Don't get so engrossed in details that you forget to check what's happening around you_\n",
    "\n",
    "It can be easy to get distracted by things that don't matter, so take the time to set your priorities straight.\n",
    "\n",
    "## Tip 8: Make Quality a Requirements Issue\n",
    "_Involve your users in determining the project's real quality requirements_\n",
    "\n",
    "This is something you need to explore with users when you're doing things. No software is perfect, real world software is too complex to be. Discuss with your clients what they need, and what imperfections they can live with."
   ]
  }
 ],
 "metadata": {
  "kernelspec": {
   "display_name": "OCaml cs3110-2021sp",
   "language": "OCaml",
   "name": "ocaml-jupyter"
  },
  "language_info": {
   "codemirror_mode": "text/x-ocaml",
   "file_extension": ".ml",
   "mimetype": "text/x-ocaml",
   "name": "OCaml",
   "nbconverter_exporter": null,
   "pygments_lexer": "OCaml",
   "version": "4.11.1"
  }
 },
 "nbformat": 4,
 "nbformat_minor": 4
}
