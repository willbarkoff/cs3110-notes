{
 "cells": [
  {
   "cell_type": "markdown",
   "metadata": {},
   "source": [
    "# **06** Recursive functions\n",
    "\n",
    "You must explicitly state that a function is recursive:\n",
    "\n",
    "```ocaml\n",
    "let rec fun ... \n",
    "```\n",
    "\n",
    "This is an implementation of the factorial function recursively in OCaml:"
   ]
  },
  {
   "cell_type": "code",
   "execution_count": 1,
   "metadata": {},
   "outputs": [
    {
     "data": {
      "text/plain": [
       "val fact : int -> int = <fun>\n"
      ]
     },
     "execution_count": 1,
     "metadata": {},
     "output_type": "execute_result"
    }
   ],
   "source": [
    "(* requires: [n >= 0] *)\n",
    "let rec fact n =\n",
    "\tif n = 0 then 1\n",
    "\telse n * fact (n - 1)"
   ]
  },
  {
   "cell_type": "markdown",
   "metadata": {},
   "source": [
    "The reason that we need to write `fact (n - 1)` rather than `fact n - 1` is because otherwise OCaml will parse the argument as `n`, rather than `n - 1`"
   ]
  },
  {
   "cell_type": "code",
   "execution_count": 2,
   "metadata": {},
   "outputs": [
    {
     "data": {
      "text/plain": [
       "- : int = 3628800\n"
      ]
     },
     "execution_count": 2,
     "metadata": {},
     "output_type": "execute_result"
    }
   ],
   "source": [
    "fact 10;;"
   ]
  },
  {
   "cell_type": "markdown",
   "metadata": {},
   "source": [
    "What happens if we don't use the `rec` keyword? OCaml will throw an error."
   ]
  },
  {
   "cell_type": "code",
   "execution_count": 3,
   "metadata": {},
   "outputs": [
    {
     "name": "stderr",
     "output_type": "stream",
     "text": [
      "File \"[3]\", line 3, characters 10-12:\n",
      "3 | \tif n = 0 or n = 1 then 1 else fib (n - 1) + fib (n - 2);;\n",
      "              ^^\n",
      "Alert deprecated: Stdlib.or\n",
      "Use (||) instead.\n"
     ]
    },
    {
     "ename": "error",
     "evalue": "compile_error",
     "output_type": "error",
     "traceback": [
      "File \"[3]\", line 3, characters 31-34:\n3 | \tif n = 0 or n = 1 then 1 else fib (n - 1) + fib (n - 2);;\n                                   ^^^\nError: Unbound value fib\nHint: If this is a recursive definition,\nyou should add the 'rec' keyword on line 2\n"
     ]
    }
   ],
   "source": [
    "(* requires [n >= 1] *)\n",
    "let fib n = \n",
    "\tif n = 0 or n = 1 then 1 else fib (n - 1) + fib (n - 2);;"
   ]
  },
  {
   "cell_type": "markdown",
   "metadata": {},
   "source": [
    "We can fix this by adding the `rec` keyword."
   ]
  },
  {
   "cell_type": "code",
   "execution_count": 4,
   "metadata": {},
   "outputs": [
    {
     "data": {
      "text/plain": [
       "val fib : int -> int = <fun>\n"
      ]
     },
     "execution_count": 4,
     "metadata": {},
     "output_type": "execute_result"
    }
   ],
   "source": [
    "(* requires [n >= 1] *)\n",
    "let rec fib n = \n",
    "\tif n = 0 || n = 1 then 1 else fib (n - 1) + fib (n - 2);;"
   ]
  },
  {
   "cell_type": "code",
   "execution_count": 5,
   "metadata": {},
   "outputs": [
    {
     "data": {
      "text/plain": [
       "- : int = 8\n"
      ]
     },
     "execution_count": 5,
     "metadata": {},
     "output_type": "execute_result"
    }
   ],
   "source": [
    "fib 5;;"
   ]
  }
 ],
 "metadata": {
  "kernelspec": {
   "display_name": "OCaml cs3110-2021sp",
   "language": "OCaml",
   "name": "ocaml-jupyter"
  },
  "language_info": {
   "codemirror_mode": "text/x-ocaml",
   "file_extension": ".ml",
   "mimetype": "text/x-ocaml",
   "name": "OCaml",
   "nbconverter_exporter": null,
   "pygments_lexer": "OCaml",
   "version": "4.11.1"
  }
 },
 "nbformat": 4,
 "nbformat_minor": 4
}
