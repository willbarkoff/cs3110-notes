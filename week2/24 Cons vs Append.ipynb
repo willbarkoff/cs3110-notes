{
 "cells": [
  {
   "cell_type": "markdown",
   "metadata": {},
   "source": [
    "## **24** Cons vs. Append\n",
    "\n",
    "Now we've seen two list operators, `::` and `@`. Let's compare them\n",
    "\n",
    "- `::`\n",
    "    - \"cons\"\n",
    "    - Adds an element to the head of a list\n",
    "    - `'a -> 'a list -> 'a list`\n",
    "    - Constant time $0(1)$\n",
    "- `@`\n",
    "    - \"append\"\n",
    "    - combines lists together\n",
    "    - `'a list -> 'a list -> 'a list`\n",
    "    - Linear time for the first list, for `lst1 @ lst2`, it's $O(n)$ (or, more specifically, $O(\\texttt{length lst1})$)."
   ]
  }
 ],
 "metadata": {
  "kernelspec": {
   "display_name": "OCaml cs3110-2021sp",
   "language": "OCaml",
   "name": "ocaml-jupyter"
  },
  "language_info": {
   "codemirror_mode": "text/x-ocaml",
   "file_extension": ".ml",
   "mimetype": "text/x-ocaml",
   "name": "OCaml",
   "nbconverter_exporter": null,
   "pygments_lexer": "OCaml",
   "version": "4.11.1"
  }
 },
 "nbformat": 4,
 "nbformat_minor": 4
}
