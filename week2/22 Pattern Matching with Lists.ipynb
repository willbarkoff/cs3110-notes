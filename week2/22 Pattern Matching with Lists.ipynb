{
 "cells": [
  {
   "cell_type": "markdown",
   "metadata": {},
   "source": [
    "# **22** Pattern Matching with Lists\n",
    "\n",
    "We've seen that pattern matching lets us:\n",
    "- Match the shape of data\n",
    "- Extract parts of data\n",
    "\n",
    "What if we want to match with lists? Lists can only be two things\n",
    "- nil\n",
    "- the cons of an element onto another list\n",
    "\n",
    "We can use pattern matching to access the list in one of those ways."
   ]
  },
  {
   "cell_type": "code",
   "execution_count": 1,
   "metadata": {},
   "outputs": [
    {
     "data": {
      "text/plain": [
       "val empty : 'a list -> bool = <fun>\n"
      ]
     },
     "execution_count": 1,
     "metadata": {},
     "output_type": "execute_result"
    }
   ],
   "source": [
    "let empty lst =\n",
    "\tmatch lst with\n",
    "\t| [] -> true\n",
    "\t| h :: t -> false;;"
   ]
  },
  {
   "cell_type": "markdown",
   "metadata": {},
   "source": [
    "Here, we have a function that determines if a list is empty. It determines if the list is nil, and if so, matches it to true, and if it is the cons of an element and a list, it matches it to false."
   ]
  },
  {
   "cell_type": "code",
   "execution_count": 2,
   "metadata": {},
   "outputs": [
    {
     "data": {
      "text/plain": [
       "val sum : int list -> int = <fun>\n"
      ]
     },
     "execution_count": 2,
     "metadata": {},
     "output_type": "execute_result"
    }
   ],
   "source": [
    "let rec sum lst =\n",
    "\tmatch lst with\n",
    "\t| [] -> 0\n",
    "\t| h :: t -> h + sum t;;"
   ]
  },
  {
   "cell_type": "markdown",
   "metadata": {},
   "source": [
    "Here, we recurse through the list using pattern matching to take the sum of a list.\n",
    "\n",
    "`h` is an element in the list, and `t` is the rest of the list."
   ]
  },
  {
   "cell_type": "code",
   "execution_count": 3,
   "metadata": {},
   "outputs": [
    {
     "data": {
      "text/plain": [
       "- : int = 0\n"
      ]
     },
     "execution_count": 3,
     "metadata": {},
     "output_type": "execute_result"
    }
   ],
   "source": [
    "sum [];;"
   ]
  },
  {
   "cell_type": "code",
   "execution_count": 4,
   "metadata": {},
   "outputs": [
    {
     "data": {
      "text/plain": [
       "- : int = 10\n"
      ]
     },
     "execution_count": 4,
     "metadata": {},
     "output_type": "execute_result"
    }
   ],
   "source": [
    "sum [1;2;3;4];;"
   ]
  },
  {
   "cell_type": "markdown",
   "metadata": {},
   "source": [
    "We can actually see what's happening under the hood, thanks to utop (which powers this Jupyter Notebook)"
   ]
  },
  {
   "cell_type": "code",
   "execution_count": 5,
   "metadata": {},
   "outputs": [
    {
     "name": "stdout",
     "output_type": "stream",
     "text": [
      "sum is now traced.\n"
     ]
    }
   ],
   "source": [
    "#trace sum"
   ]
  },
  {
   "cell_type": "code",
   "execution_count": 6,
   "metadata": {},
   "outputs": [
    {
     "name": "stdout",
     "output_type": "stream",
     "text": [
      "sum <-- [1; 2; 3]\n",
      "sum <-- [2; 3]\n",
      "sum <-- [3]\n",
      "sum <-- []\n",
      "sum --> 0\n",
      "sum --> 3\n",
      "sum --> 5\n",
      "sum --> 6\n"
     ]
    },
    {
     "data": {
      "text/plain": [
       "- : int = 6\n"
      ]
     },
     "execution_count": 6,
     "metadata": {},
     "output_type": "execute_result"
    }
   ],
   "source": [
    "sum [1;2;3];;"
   ]
  },
  {
   "cell_type": "markdown",
   "metadata": {},
   "source": [
    "Every time you see `sum <--`, `sum` is being called with the values on the right side. Every time you see `sum -->`, `sum` is returning the value on the right side. We can actually see our values accumulate here!\n",
    "\n",
    "Now that we're done with this cool demo, we can untrace sum."
   ]
  },
  {
   "cell_type": "code",
   "execution_count": 7,
   "metadata": {},
   "outputs": [
    {
     "name": "stdout",
     "output_type": "stream",
     "text": [
      "sum is no longer traced.\n"
     ]
    }
   ],
   "source": [
    "#untrace sum"
   ]
  },
  {
   "cell_type": "code",
   "execution_count": 8,
   "metadata": {},
   "outputs": [
    {
     "data": {
      "text/plain": [
       "- : int = 6\n"
      ]
     },
     "execution_count": 8,
     "metadata": {},
     "output_type": "execute_result"
    }
   ],
   "source": [
    "sum [1;2;3];;"
   ]
  },
  {
   "cell_type": "markdown",
   "metadata": {},
   "source": [
    "Let's write a function to find the length of a list now!"
   ]
  },
  {
   "cell_type": "code",
   "execution_count": 9,
   "metadata": {},
   "outputs": [
    {
     "data": {
      "text/plain": [
       "val length : 'a list -> int = <fun>\n"
      ]
     },
     "execution_count": 9,
     "metadata": {},
     "output_type": "execute_result"
    }
   ],
   "source": [
    "let rec length lst =\n",
    "\tmatch lst with\n",
    "\t| [] -> 0\n",
    "\t| h :: t -> 1 + length t;;"
   ]
  },
  {
   "cell_type": "code",
   "execution_count": 10,
   "metadata": {},
   "outputs": [
    {
     "data": {
      "text/plain": [
       "- : int = 0\n"
      ]
     },
     "execution_count": 10,
     "metadata": {},
     "output_type": "execute_result"
    }
   ],
   "source": [
    "length [];;"
   ]
  },
  {
   "cell_type": "code",
   "execution_count": 11,
   "metadata": {},
   "outputs": [
    {
     "data": {
      "text/plain": [
       "- : int = 1\n"
      ]
     },
     "execution_count": 11,
     "metadata": {},
     "output_type": "execute_result"
    }
   ],
   "source": [
    "length [1, 2, 3];;"
   ]
  },
  {
   "cell_type": "markdown",
   "metadata": {},
   "source": [
    "Now let's write a function that appends to lists."
   ]
  },
  {
   "cell_type": "code",
   "execution_count": 12,
   "metadata": {},
   "outputs": [
    {
     "data": {
      "text/plain": [
       "val append : 'a list -> 'a list -> 'a list = <fun>\n"
      ]
     },
     "execution_count": 12,
     "metadata": {},
     "output_type": "execute_result"
    }
   ],
   "source": [
    "(** [append lst1 lst2] combines [lst1] and [lst2]\n",
    "\n",
    "\texample usage:\n",
    "\t| append [1; 2; 3] [4; 5; 6] is [1; 2; 3; 4; 5; 6;]\n",
    "*)\n",
    "let rec append lst1 lst2 =\n",
    "\tmatch lst1 with\n",
    "\t| [] -> lst2\n",
    "\t| h :: t -> h :: append t lst2;;"
   ]
  },
  {
   "cell_type": "code",
   "execution_count": 13,
   "metadata": {},
   "outputs": [
    {
     "data": {
      "text/plain": [
       "- : int list = [1; 2; 3; 4; 5; 6]\n"
      ]
     },
     "execution_count": 13,
     "metadata": {},
     "output_type": "execute_result"
    }
   ],
   "source": [
    "append [1; 2; 3] [4; 5; 6]"
   ]
  },
  {
   "cell_type": "markdown",
   "metadata": {},
   "source": [
    "By the way, most of these functions are built into the standard library, and append is even a built in operator (`@`). You can see the standard library implementation for OCaml 4.11 (the version we're using)  [here](https://github.com/ocaml/ocaml/blob/4.11/stdlib/list.ml#L55). This is the implementation:\n",
    "```ocaml\n",
    "let rec rev_append l1 l2 =\n",
    "  match l1 with\n",
    "    [] -> l2\n",
    "  | a :: l -> rev_append l (a :: l2)\n",
    "```\n",
    "\n",
    "Notice it's the same implementation that we just wrote!"
   ]
  }
 ],
 "metadata": {
  "kernelspec": {
   "display_name": "OCaml cs3110-2021sp",
   "language": "OCaml",
   "name": "ocaml-jupyter"
  },
  "language_info": {
   "codemirror_mode": "text/x-ocaml",
   "file_extension": ".ml",
   "mimetype": "text/x-ocaml",
   "name": "OCaml",
   "nbconverter_exporter": null,
   "pygments_lexer": "OCaml",
   "version": "4.11.1"
  }
 },
 "nbformat": 4,
 "nbformat_minor": 4
}
