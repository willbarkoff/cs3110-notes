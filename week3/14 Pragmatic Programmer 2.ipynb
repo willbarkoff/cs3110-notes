{
 "cells": [
  {
   "cell_type": "markdown",
   "metadata": {},
   "source": [
    "# **14** The Pragmatic Programmer (Part 2)\n",
    "\n",
    "## Tip 17: Eliminate Effects Between Unrelated Things\n",
    "_Design components that are self-contained, independent, and have a single, well-defined purpose._\n",
    "\n",
    "## Tip 18: There Are No Final Decisions\n",
    "_No decision is cast in stone. Instead, consider each being written in sand at the beach, and plan for change._"
   ]
  }
 ],
 "metadata": {
  "kernelspec": {
   "display_name": "OCaml cs3110-2021sp",
   "language": "OCaml",
   "name": "ocaml-jupyter"
  },
  "language_info": {
   "codemirror_mode": "text/x-ocaml",
   "file_extension": ".ml",
   "mimetype": "text/x-ocaml",
   "name": "OCaml",
   "nbconverter_exporter": null,
   "pygments_lexer": "OCaml",
   "version": "4.11.1"
  }
 },
 "nbformat": 4,
 "nbformat_minor": 4
}
