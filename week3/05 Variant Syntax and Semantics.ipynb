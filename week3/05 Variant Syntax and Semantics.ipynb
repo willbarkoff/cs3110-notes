{
 "cells": [
  {
   "cell_type": "markdown",
   "metadata": {},
   "source": [
    "# **05** Variant Syntax and Semantics"
   ]
  },
  {
   "cell_type": "markdown",
   "metadata": {},
   "source": [
    "## Variant Syntax\n",
    "\n",
    "The syntax for defining a variant uses the _type declaration syntax_.\n",
    "\n",
    "```ocaml\n",
    "type t =\n",
    "    | C1 of t1\n",
    "    | ...\n",
    "    | Cn of tn\n",
    "```\n",
    "\n",
    "Each variant needs to start with an uppercase letter:"
   ]
  },
  {
   "cell_type": "code",
   "execution_count": 1,
   "metadata": {},
   "outputs": [
    {
     "ename": "error",
     "evalue": "compile_error",
     "output_type": "error",
     "traceback": [
      "File \"[1]\", line 3, characters 3-16:\n3 | \t| example_value of int\n       ^^^^^^^^^^^^^\nError: Syntax error\n"
     ]
    }
   ],
   "source": [
    "(* bad *)\n",
    "type t =\n",
    "\t| example_value of int"
   ]
  },
  {
   "cell_type": "code",
   "execution_count": 2,
   "metadata": {},
   "outputs": [
    {
     "data": {
      "text/plain": [
       "type t = Example_value of int\n"
      ]
     },
     "execution_count": 2,
     "metadata": {},
     "output_type": "execute_result"
    }
   ],
   "source": [
    "(* fixed *)\n",
    "type t =\n",
    "\t| Example_value of int"
   ]
  },
  {
   "cell_type": "markdown",
   "metadata": {},
   "source": [
    "The `of tn` clause is optional, variants do not need to carry data.\n",
    "\n",
    "The `C1` part is called a \"constructor,\" or sometimes a \"tag.\"\n",
    "\n",
    "We call a constructor \"constant\" if it carry data, and a constructor \"non-constant\" if it does not carry data."
   ]
  },
  {
   "cell_type": "markdown",
   "metadata": {},
   "source": [
    "## Variant Evaluation"
   ]
  },
  {
   "cell_type": "markdown",
   "metadata": {},
   "source": [
    "If `e ==> v`, then `C e ==> C v`."
   ]
  },
  {
   "cell_type": "markdown",
   "metadata": {},
   "source": [
    "## Type Checking\n",
    "`C e : t`\n",
    "if `t = ... | C of t' | ...`\n",
    "and `e : t'`"
   ]
  },
  {
   "cell_type": "markdown",
   "metadata": {},
   "source": [
    "## Pattern Matching\n",
    "`C p` is a pattern."
   ]
  }
 ],
 "metadata": {
  "kernelspec": {
   "display_name": "OCaml cs3110-2021sp",
   "language": "OCaml",
   "name": "ocaml-jupyter"
  },
  "language_info": {
   "codemirror_mode": "text/x-ocaml",
   "file_extension": ".ml",
   "mimetype": "text/x-ocaml",
   "name": "OCaml",
   "nbconverter_exporter": null,
   "pygments_lexer": "OCaml",
   "version": "4.11.1"
  }
 },
 "nbformat": 4,
 "nbformat_minor": 4
}
