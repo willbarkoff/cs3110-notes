{
 "cells": [
  {
   "cell_type": "markdown",
   "metadata": {},
   "source": [
    "# **09** Pragmatic Programmer (Part 1)\n",
    "\n",
    "## Tip 14: Good Design is Easier to Change than Bad Design\n",
    "_A thing is well designed if it adapts to the people who use it. For code, that means it must adapt by changing_\n",
    "\n",
    "We implement this by creating things like constants and class hierarchies. We're going to see some new ways to do that in functional programming. It's hard to constitute what good design means. One way to think about this is if your code can be easily replaced by something else. If it can't then it's probably not a great implementation.\n",
    "\n",
    "## Tip 15: Don't Repeat Yourself\n",
    "_Every piece of knowledge must have a single, unambiguous authoritative representation within a system_\n",
    "\n",
    "In the context of software, don't represent the same piece of knowledge redundantly within the system. This leads to bad design in that it becomes hard to change. One day, you'll miss an update in some place. Let data be computed when it can.\n",
    "\n",
    "## Tip 16: Make it Easy to Reuse\n",
    "_If it's easy to reuse, people will. Create an environment that supports reuse._\n",
    "\n",
    "This is heavily related to documentation! Make it easy for other people to understand to use your code, and make the interface friendly and approachable."
   ]
  }
 ],
 "metadata": {
  "kernelspec": {
   "display_name": "OCaml cs3110-2021sp",
   "language": "OCaml",
   "name": "ocaml-jupyter"
  },
  "language_info": {
   "codemirror_mode": "text/x-ocaml",
   "file_extension": ".ml",
   "mimetype": "text/x-ocaml",
   "name": "OCaml",
   "nbconverter_exporter": null,
   "pygments_lexer": "OCaml",
   "version": "4.11.1"
  }
 },
 "nbformat": 4,
 "nbformat_minor": 4
}
