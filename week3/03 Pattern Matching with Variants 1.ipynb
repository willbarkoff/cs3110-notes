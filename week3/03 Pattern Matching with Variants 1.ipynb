{
 "cells": [
  {
   "cell_type": "markdown",
   "metadata": {},
   "source": [
    "# **03** Pattern Matching with Variants (Part 1)"
   ]
  },
  {
   "cell_type": "markdown",
   "metadata": {},
   "source": [
    "Let's start with our code from last time:"
   ]
  },
  {
   "cell_type": "code",
   "execution_count": 1,
   "metadata": {},
   "outputs": [
    {
     "data": {
      "text/plain": [
       "type point = float * float\n"
      ]
     },
     "execution_count": 1,
     "metadata": {},
     "output_type": "execute_result"
    },
    {
     "data": {
      "text/plain": [
       "type shape =\n",
       "    Circle of { center : point; radius : float; }\n",
       "  | Rectangle of { lower_left : point; upper_right : point; }\n"
      ]
     },
     "execution_count": 1,
     "metadata": {},
     "output_type": "execute_result"
    },
    {
     "data": {
      "text/plain": [
       "val c1 : shape = Circle {center = (0., 0.); radius = 1.}\n"
      ]
     },
     "execution_count": 1,
     "metadata": {},
     "output_type": "execute_result"
    },
    {
     "data": {
      "text/plain": [
       "val r1 : shape = Rectangle {lower_left = (-1., -1.); upper_right = (1., 1.)}\n"
      ]
     },
     "execution_count": 1,
     "metadata": {},
     "output_type": "execute_result"
    }
   ],
   "source": [
    "type point = float * float\n",
    "\n",
    "type shape =\n",
    "\t(* lets represent a circle by it's center and it's radius*)\n",
    "\t(* we can use the \"of\" keyword to make it carry more data*)\n",
    "\t| Circle of {center: point; radius: float}\n",
    "\t(* let's represent rectangles with their lower left\n",
    "\tcoordinate and their upper right coordiante.*)\n",
    "\t| Rectangle of {lower_left: point; upper_right: point}\n",
    "\n",
    "let c1 = Circle {center = (0., 0.); radius = 1.}\n",
    "let r1 = Rectangle {lower_left = (-1., -1.); upper_right = (1., 1.)}"
   ]
  },
  {
   "cell_type": "markdown",
   "metadata": {},
   "source": [
    "What if we want to find the center of our shape? We can use pattern matching!"
   ]
  },
  {
   "cell_type": "code",
   "execution_count": 2,
   "metadata": {},
   "outputs": [
    {
     "data": {
      "text/plain": [
       "val center : shape -> point = <fun>\n"
      ]
     },
     "execution_count": 2,
     "metadata": {},
     "output_type": "execute_result"
    }
   ],
   "source": [
    "let center s =\n",
    "\tmatch s with\n",
    "\t| Circle {center; radius} -> center\n",
    "\t(* it's going to be easier if we have an average function. Let's come back to this*)\n",
    "\t| Rectangle {lower_left; upper_right} -> failwith \"Unimplemented\""
   ]
  },
  {
   "cell_type": "code",
   "execution_count": 3,
   "metadata": {},
   "outputs": [
    {
     "data": {
      "text/plain": [
       "val avg : float -> float -> float = <fun>\n"
      ]
     },
     "execution_count": 3,
     "metadata": {},
     "output_type": "execute_result"
    }
   ],
   "source": [
    "let avg a b = (a +. b) /. 2.;;"
   ]
  },
  {
   "cell_type": "code",
   "execution_count": 4,
   "metadata": {},
   "outputs": [
    {
     "data": {
      "text/plain": [
       "val center : shape -> point = <fun>\n"
      ]
     },
     "execution_count": 4,
     "metadata": {},
     "output_type": "execute_result"
    }
   ],
   "source": [
    "let center s =\n",
    "\tmatch s with\n",
    "\t| Circle {center; radius} -> center\n",
    "\t| Rectangle {lower_left; upper_right} ->\n",
    "\t\tlet (x_ll, y_ll) = lower_left in (* we can pattern match in let expressions *)\n",
    "\t\tlet (x_ur, y_ur) = upper_right in\n",
    "\t\t(avg x_ll x_ur, avg y_ll y_ur)"
   ]
  },
  {
   "cell_type": "markdown",
   "metadata": {},
   "source": [
    "Okay cool! Now let's test our `center` function."
   ]
  },
  {
   "cell_type": "code",
   "execution_count": 5,
   "metadata": {},
   "outputs": [
    {
     "data": {
      "text/plain": [
       "- : point = (0., 0.)\n"
      ]
     },
     "execution_count": 5,
     "metadata": {},
     "output_type": "execute_result"
    },
    {
     "data": {
      "text/plain": [
       "- : point = (0., 0.)\n"
      ]
     },
     "execution_count": 5,
     "metadata": {},
     "output_type": "execute_result"
    }
   ],
   "source": [
    "center c1;;\n",
    "center r1;;"
   ]
  },
  {
   "cell_type": "markdown",
   "metadata": {},
   "source": [
    "Both of our shapes are centered at the origin."
   ]
  }
 ],
 "metadata": {
  "kernelspec": {
   "display_name": "OCaml cs3110-2021sp",
   "language": "OCaml",
   "name": "ocaml-jupyter"
  },
  "language_info": {
   "codemirror_mode": "text/x-ocaml",
   "file_extension": ".ml",
   "mimetype": "text/x-ocaml",
   "name": "OCaml",
   "nbconverter_exporter": null,
   "pygments_lexer": "OCaml",
   "version": "4.11.1"
  }
 },
 "nbformat": 4,
 "nbformat_minor": 4
}
