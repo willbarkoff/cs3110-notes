{
 "cells": [
  {
   "cell_type": "markdown",
   "metadata": {},
   "source": [
    "# **02** Variants\n",
    "\n",
    "Variants are a new way to build data types.\n",
    "\n",
    "Perhaps you've seen a type that allows you to enumerate through constants, like an `enum`.\n",
    "\n",
    "You can do something similar with variants."
   ]
  },
  {
   "cell_type": "code",
   "execution_count": 1,
   "metadata": {},
   "outputs": [
    {
     "data": {
      "text/plain": [
       "type primary_color = Red | Green | Blue\n"
      ]
     },
     "execution_count": 1,
     "metadata": {},
     "output_type": "execute_result"
    }
   ],
   "source": [
    "type primary_color = Red | Green | Blue"
   ]
  },
  {
   "cell_type": "code",
   "execution_count": 2,
   "metadata": {},
   "outputs": [
    {
     "data": {
      "text/plain": [
       "val r : primary_color = Red\n"
      ]
     },
     "execution_count": 2,
     "metadata": {},
     "output_type": "execute_result"
    }
   ],
   "source": [
    "let r = Red"
   ]
  },
  {
   "cell_type": "markdown",
   "metadata": {},
   "source": [
    "See, we have a type `primary_color` now!\n",
    "\n",
    "Let's make a variant for shapes!"
   ]
  },
  {
   "cell_type": "code",
   "execution_count": 3,
   "metadata": {},
   "outputs": [
    {
     "data": {
      "text/plain": [
       "type point = float * float\n"
      ]
     },
     "execution_count": 3,
     "metadata": {},
     "output_type": "execute_result"
    },
    {
     "data": {
      "text/plain": [
       "type shape =\n",
       "    Circle of { center : point; radius : float; }\n",
       "  | Rectangle of { lower_left : point; upper_right : point; }\n"
      ]
     },
     "execution_count": 3,
     "metadata": {},
     "output_type": "execute_result"
    }
   ],
   "source": [
    "type point = float * float\n",
    "\n",
    "type shape =\n",
    "\t(* lets represent a circle by it's center and it's radius*)\n",
    "\t(* we can use the \"of\" keyword to make it carry more data*)\n",
    "\t| Circle of {center: point; radius: float}\n",
    "\t(* let's represent rectangles with their lower left\n",
    "\tcoordinate and their upper right coordiante.*)\n",
    "\t| Rectangle of {lower_left: point; upper_right: point}\n"
   ]
  },
  {
   "cell_type": "markdown",
   "metadata": {},
   "source": [
    "Now let's make a rectangle and a circle!"
   ]
  },
  {
   "cell_type": "code",
   "execution_count": 4,
   "metadata": {},
   "outputs": [
    {
     "data": {
      "text/plain": [
       "val c1 : shape = Circle {center = (0., 0.); radius = 1.}\n"
      ]
     },
     "execution_count": 4,
     "metadata": {},
     "output_type": "execute_result"
    }
   ],
   "source": [
    "let c1 = Circle {center = (0., 0.); radius = 1.}"
   ]
  },
  {
   "cell_type": "code",
   "execution_count": 5,
   "metadata": {},
   "outputs": [
    {
     "data": {
      "text/plain": [
       "val r1 : shape = Rectangle {lower_left = (-1., -1.); upper_right = (1., 1.)}\n"
      ]
     },
     "execution_count": 5,
     "metadata": {},
     "output_type": "execute_result"
    }
   ],
   "source": [
    "let r1 = Rectangle {lower_left = (-1., -1.); upper_right = (1., 1.)}"
   ]
  },
  {
   "cell_type": "markdown",
   "metadata": {},
   "source": [
    "These variables now carry all the data we need to represent our points!"
   ]
  }
 ],
 "metadata": {
  "kernelspec": {
   "display_name": "OCaml cs3110-2021sp",
   "language": "OCaml",
   "name": "ocaml-jupyter"
  },
  "language_info": {
   "codemirror_mode": "text/x-ocaml",
   "file_extension": ".ml",
   "mimetype": "text/x-ocaml",
   "name": "OCaml",
   "nbconverter_exporter": null,
   "pygments_lexer": "OCaml",
   "version": "4.11.1"
  }
 },
 "nbformat": 4,
 "nbformat_minor": 4
}
