{
 "cells": [
  {
   "cell_type": "markdown",
   "metadata": {},
   "source": [
    "# **20** End of Week"
   ]
  },
  {
   "cell_type": "markdown",
   "metadata": {},
   "source": [
    "Starting another semester of Zoom U is hard. Even professors are struggling!\n",
    "\n",
    "> Last semester on Ada Island: [Transcendant Camel](https://tinyurl.com/transcendant-camel)\n",
    "\n",
    "Let's take this class a week at a time. The phrase \"We'll get through it together,\" has become trite, but the sentiment hasn't. So take to heart _Excelsior_ – Latin for Onwards and Upwards."
   ]
  }
 ],
 "metadata": {
  "kernelspec": {
   "display_name": "OCaml cs3110-2021sp",
   "language": "OCaml",
   "name": "ocaml-jupyter"
  },
  "language_info": {
   "codemirror_mode": "text/x-ocaml",
   "file_extension": ".ml",
   "mimetype": "text/x-ocaml",
   "name": "OCaml",
   "nbconverter_exporter": null,
   "pygments_lexer": "OCaml",
   "version": "4.11.1"
  }
 },
 "nbformat": 4,
 "nbformat_minor": 4
}
